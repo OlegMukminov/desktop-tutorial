{
 "cells": [
  {
   "cell_type": "code",
   "execution_count": 1,
   "metadata": {},
   "outputs": [],
   "source": [
    "# Импорт библиотек и отключение предупреждений\n",
    "import pandas as pd\n",
    "import requests\n",
    "import io\n",
    "import numpy as np\n",
    "import datetime\n",
    "from datetime import timedelta\n",
    "from pprint import pprint\n",
    "#import matplotlib\n",
    "import matplotlib.pyplot as plt\n",
    "#import seaborn as sns\n",
    "import warnings\n",
    "warnings.filterwarnings('ignore')"
   ]
  },
  {
   "cell_type": "code",
   "execution_count": 2,
   "metadata": {},
   "outputs": [],
   "source": [
    "#Загрузка датафрейма с кириллицей\n",
    "bond_url='https://iss.moex.com/iss/apps/infogrid/emission/rates.csv?iss.dp=comma&iss.df=%25d.%25m.%25Y&iss.tf=%25H:%25M:%25S&iss.dtf=%25d.%25m.%25Y%25H:%25M:%25S&iss.only=rates&limit=unlimited&lang=ru'\n",
    "s=requests.get(bond_url).content\n",
    "df = pd.read_csv(io.StringIO(s.decode('cp1251')), sep=';', header=1)"
   ]
  },
  {
   "cell_type": "code",
   "execution_count": 3,
   "metadata": {},
   "outputs": [
    {
     "data": {
      "text/plain": [
       "Index(['SECID', 'SHORTNAME', 'NAME', 'TYPENAME', 'ISIN', 'REGNUMBER',\n",
       "       'LISTLEVEL', 'FACEVALUE', 'FACEUNIT', 'ISSUESIZE', 'IS_COLLATERAL',\n",
       "       'IS_EXTERNAL', 'PRIMARY_BOARDID', 'PRIMARY_BOARD_TITLE', 'MATDATE',\n",
       "       'IS_RII', 'EVENINGSESSION', 'MORNINGSESSION', 'DURATION',\n",
       "       'IS_QUALIFIED_INVESTORS', 'HIGH_RISK', 'COUPONFREQUENCY', 'YIELDATWAP',\n",
       "       'COUPONDATE', 'COUPONPERCENT', 'COUPONVALUE', 'COUPONDAYSPASSED',\n",
       "       'COUPONDAYSREMAIN', 'COUPONLENGTH', 'ISSUEDATE', 'INITIALFACEVALUE',\n",
       "       'SECSUBTYPE', 'STARTDATEMOEX', 'DAYSTOREDEMPTION', 'OFFERDATE',\n",
       "       'EMITENTNAME', 'INN', 'LOTSIZE', 'PRICE', 'PRICE_RUB', 'RTL1', 'RTH1',\n",
       "       'RTL2', 'RTH2', 'RTL3', 'RTH3', 'DISCOUNT1', 'LIMIT1', 'DISCOUNT2',\n",
       "       'LIMIT2', 'DISCOUNT3', 'DISCOUNTL0', 'DISCOUNTH0', 'FULLCOVERED'],\n",
       "      dtype='object')"
      ]
     },
     "execution_count": 3,
     "metadata": {},
     "output_type": "execute_result"
    }
   ],
   "source": [
    "# Просмотр колонок датафрейма df\n",
    "df.columns"
   ]
  },
  {
   "cell_type": "code",
   "execution_count": 4,
   "metadata": {},
   "outputs": [],
   "source": [
    "# Выбор нужных столбцов и организация рабочего датафрема df1\n",
    "df1 = df[['SECID','SHORTNAME','NAME','FACEVALUE','FACEUNIT','DURATION',\n",
    "          'IS_QUALIFIED_INVESTORS','HIGH_RISK','COUPONFREQUENCY','COUPONDATE',\n",
    "          'COUPONPERCENT','COUPONVALUE', 'COUPONDAYSPASSED','COUPONLENGTH',\n",
    "          'OFFERDATE','EMITENTNAME','INN','PRICE','PRICE_RUB', 'ISSUEDATE', 'MATDATE']]"
   ]
  },
  {
   "cell_type": "code",
   "execution_count": 5,
   "metadata": {},
   "outputs": [
    {
     "name": "stdout",
     "output_type": "stream",
     "text": [
      "<class 'pandas.core.frame.DataFrame'>\n",
      "RangeIndex: 2649 entries, 0 to 2648\n",
      "Data columns (total 21 columns):\n",
      " #   Column                  Non-Null Count  Dtype  \n",
      "---  ------                  --------------  -----  \n",
      " 0   SECID                   2649 non-null   object \n",
      " 1   SHORTNAME               2649 non-null   object \n",
      " 2   NAME                    2649 non-null   object \n",
      " 3   FACEVALUE               2649 non-null   object \n",
      " 4   FACEUNIT                2649 non-null   object \n",
      " 5   DURATION                1609 non-null   float64\n",
      " 6   IS_QUALIFIED_INVESTORS  2649 non-null   int64  \n",
      " 7   HIGH_RISK               2649 non-null   int64  \n",
      " 8   COUPONFREQUENCY         2287 non-null   float64\n",
      " 9   COUPONDATE              2638 non-null   object \n",
      " 10  COUPONPERCENT           2485 non-null   object \n",
      " 11  COUPONVALUE             2492 non-null   object \n",
      " 12  COUPONDAYSPASSED        2627 non-null   float64\n",
      " 13  COUPONLENGTH            2638 non-null   float64\n",
      " 14  OFFERDATE               425 non-null    object \n",
      " 15  EMITENTNAME             2497 non-null   object \n",
      " 16  INN                     2492 non-null   float64\n",
      " 17  PRICE                   2462 non-null   object \n",
      " 18  PRICE_RUB               2462 non-null   object \n",
      " 19  ISSUEDATE               2497 non-null   object \n",
      " 20  MATDATE                 2597 non-null   object \n",
      "dtypes: float64(5), int64(2), object(14)\n",
      "memory usage: 434.7+ KB\n"
     ]
    }
   ],
   "source": [
    "# Анализ df1\n",
    "df1.info()"
   ]
  },
  {
   "cell_type": "code",
   "execution_count": 6,
   "metadata": {},
   "outputs": [],
   "source": [
    "# Преобразования типа колонки 'COUPONDATE' к типу datetime\n",
    "df1['COUPONDATE'] = pd.to_datetime(df1['COUPONDATE'].str.strip(), format = '%d.%m.%Y')\n",
    "df1['MATDATE'] = pd.to_datetime(df1['MATDATE'].str.strip(), format = '%d.%m.%Y')"
   ]
  },
  {
   "cell_type": "code",
   "execution_count": 7,
   "metadata": {},
   "outputs": [],
   "source": [
    "# Создание дополнительного столбца 'COUPONFREQUENCY1' для обработки полей со значением NaN\n",
    "df1['COUPONFREQUENCY1'] = df1['COUPONFREQUENCY']"
   ]
  },
  {
   "cell_type": "code",
   "execution_count": 8,
   "metadata": {},
   "outputs": [
    {
     "data": {
      "text/plain": [
       "362"
      ]
     },
     "execution_count": 8,
     "metadata": {},
     "output_type": "execute_result"
    }
   ],
   "source": [
    "#количество NaN значений по полю 'COUPONFREQUENCY' - число купонов в год, до преобразования\n",
    "df1['COUPONFREQUENCY'].isnull().sum()"
   ]
  },
  {
   "cell_type": "code",
   "execution_count": 9,
   "metadata": {},
   "outputs": [],
   "source": [
    "# Преобразование вручную значений NaN по столбцу число купонов в год \n",
    "df1['COUPONFREQUENCY'] = np.where(df1['COUPONFREQUENCY1'].isnull(), \n",
    "                                  round(365/df1['COUPONLENGTH']),\n",
    "                                  df1['COUPONFREQUENCY1'])"
   ]
  },
  {
   "cell_type": "code",
   "execution_count": 10,
   "metadata": {},
   "outputs": [
    {
     "name": "stdout",
     "output_type": "stream",
     "text": [
      "Количество не отработанных COUPONFREQUENCY - число купонов в год -> 10\n"
     ]
    }
   ],
   "source": [
    "#количество записей со значенией NaN по сталбцу 'COUPONFREQUENCY' - число купонов в год, после преобразования\n",
    "print('Количество не отработанных COUPONFREQUENCY - число купонов в год -> ' + str(df1['COUPONFREQUENCY'].isnull().sum()))"
   ]
  },
  {
   "cell_type": "code",
   "execution_count": 11,
   "metadata": {},
   "outputs": [
    {
     "data": {
      "text/plain": [
       "322"
      ]
     },
     "execution_count": 11,
     "metadata": {},
     "output_type": "execute_result"
    }
   ],
   "source": [
    "# Количество облигаций, где число купонов в год равно 0\n",
    "df1[df1['COUPONFREQUENCY']==0]['COUPONFREQUENCY'].count()"
   ]
  },
  {
   "cell_type": "code",
   "execution_count": 12,
   "metadata": {},
   "outputs": [],
   "source": [
    "#Удаление данных, где COUPONFREQUENCY - NaN\n",
    "df1 = df1[df1['COUPONFREQUENCY'].notna()]"
   ]
  },
  {
   "cell_type": "code",
   "execution_count": 13,
   "metadata": {},
   "outputs": [
    {
     "name": "stdout",
     "output_type": "stream",
     "text": [
      "<class 'pandas.core.frame.DataFrame'>\n",
      "Int64Index: 2639 entries, 0 to 2648\n",
      "Data columns (total 22 columns):\n",
      " #   Column                  Non-Null Count  Dtype         \n",
      "---  ------                  --------------  -----         \n",
      " 0   SECID                   2639 non-null   object        \n",
      " 1   SHORTNAME               2639 non-null   object        \n",
      " 2   NAME                    2639 non-null   object        \n",
      " 3   FACEVALUE               2639 non-null   object        \n",
      " 4   FACEUNIT                2639 non-null   object        \n",
      " 5   DURATION                1608 non-null   float64       \n",
      " 6   IS_QUALIFIED_INVESTORS  2639 non-null   int64         \n",
      " 7   HIGH_RISK               2639 non-null   int64         \n",
      " 8   COUPONFREQUENCY         2639 non-null   float64       \n",
      " 9   COUPONDATE              2638 non-null   datetime64[ns]\n",
      " 10  COUPONPERCENT           2485 non-null   object        \n",
      " 11  COUPONVALUE             2492 non-null   object        \n",
      " 12  COUPONDAYSPASSED        2627 non-null   float64       \n",
      " 13  COUPONLENGTH            2638 non-null   float64       \n",
      " 14  OFFERDATE               425 non-null    object        \n",
      " 15  EMITENTNAME             2487 non-null   object        \n",
      " 16  INN                     2482 non-null   float64       \n",
      " 17  PRICE                   2453 non-null   object        \n",
      " 18  PRICE_RUB               2453 non-null   object        \n",
      " 19  ISSUEDATE               2487 non-null   object        \n",
      " 20  MATDATE                 2587 non-null   datetime64[ns]\n",
      " 21  COUPONFREQUENCY1        2287 non-null   float64       \n",
      "dtypes: datetime64[ns](2), float64(6), int64(2), object(12)\n",
      "memory usage: 474.2+ KB\n"
     ]
    }
   ],
   "source": [
    "#Анализ df1\n",
    "df1.info()"
   ]
  },
  {
   "cell_type": "code",
   "execution_count": 14,
   "metadata": {},
   "outputs": [],
   "source": [
    "#Преобразование COUPONVALUE, FACEVALUE и PRICE_RUB к типу float\n",
    "df1['COUPONVALUE'] = df1['COUPONVALUE'].str.replace(',', '.', regex=True).astype('float')\n",
    "df1['FACEVALUE'] = df1['FACEVALUE'].str.replace(',', '.', regex=True).astype('float')\n",
    "df1['PRICE_RUB'] = df1['PRICE_RUB'].str.replace(',', '.', regex=True).astype('float')\n",
    "\n",
    "df1['COUPONPERCENT1'] = df1['COUPONPERCENT']"
   ]
  },
  {
   "cell_type": "code",
   "execution_count": 15,
   "metadata": {},
   "outputs": [],
   "source": [
    "#Преобразование nan значений в COUPONPERCENT\n",
    "df1['COUPONPERCENT'] = np.where(df1['COUPONPERCENT1'].isnull(), \n",
    "                                df1['COUPONVALUE'] * df1['COUPONFREQUENCY']/df1['FACEVALUE'] * 100,\n",
    "                                df1['COUPONPERCENT1'])\n",
    "\n",
    "df1['COUPONPERCENT'] = df1['COUPONPERCENT'].str.replace(',', '.', regex=True).astype('float')"
   ]
  },
  {
   "cell_type": "code",
   "execution_count": 16,
   "metadata": {},
   "outputs": [
    {
     "data": {
      "text/plain": [
       "2485"
      ]
     },
     "execution_count": 16,
     "metadata": {},
     "output_type": "execute_result"
    }
   ],
   "source": [
    "df1['COUPONPERCENT'].count()"
   ]
  },
  {
   "cell_type": "code",
   "execution_count": 17,
   "metadata": {},
   "outputs": [],
   "source": [
    "#НКД\n",
    "df1['NKD'] = df1['COUPONVALUE']*df1['COUPONDAYSPASSED']/df1['COUPONLENGTH']"
   ]
  },
  {
   "cell_type": "code",
   "execution_count": 18,
   "metadata": {},
   "outputs": [
    {
     "name": "stdout",
     "output_type": "stream",
     "text": [
      "{'CharCode': 'USD',\n",
      " 'ID': 'R01235',\n",
      " 'Name': 'Доллар США',\n",
      " 'Nominal': 1,\n",
      " 'NumCode': '840',\n",
      " 'Previous': 61.2434,\n",
      " 'Value': 60.2179}\n"
     ]
    },
    {
     "data": {
      "text/plain": [
       "60.2179"
      ]
     },
     "execution_count": 18,
     "metadata": {},
     "output_type": "execute_result"
    }
   ],
   "source": [
    "#Для перевода всех значений денежных средств загрузка данных по стоимости денежных едениц к рублю на сегодня\n",
    "data = requests.get('https://www.cbr-xml-daily.ru/daily_json.js').json()\n",
    "pprint(data['Valute']['USD'])\n",
    "data['Valute'][df1['FACEUNIT'].iloc[0]]['Value']"
   ]
  },
  {
   "cell_type": "code",
   "execution_count": 19,
   "metadata": {},
   "outputs": [
    {
     "data": {
      "text/plain": [
       "array(['USD', 'CHF', 'EUR', 'RUB', 'CNY', 'GBP'], dtype=object)"
      ]
     },
     "execution_count": 19,
     "metadata": {},
     "output_type": "execute_result"
    }
   ],
   "source": [
    "#Просмотр используемых денежных едениц\n",
    "df1['FACEUNIT'].unique()"
   ]
  },
  {
   "cell_type": "code",
   "execution_count": 20,
   "metadata": {},
   "outputs": [],
   "source": [
    "#Перевод номинальной стоимости, НКД и купонного дохода в RUB\n",
    "df1['FACEVALUE_RUB'] = df1[['FACEUNIT', 'FACEVALUE']].apply(lambda x: x['FACEVALUE'] if x['FACEUNIT'] == 'RUB' else x['FACEVALUE']*data['Valute'][x['FACEUNIT']]['Value'],axis=1)\n",
    "df1['NKD_RUB'] = df1[['FACEUNIT', 'NKD']].apply(lambda x: x['NKD'] if x['FACEUNIT'] == 'RUB' else x['NKD']*data['Valute'][x['FACEUNIT']]['Value'],axis=1)\n",
    "df1['COUPONVALUE_RUB'] = df1[['FACEUNIT', 'COUPONVALUE']].apply(lambda x: x['COUPONVALUE'] if x['FACEUNIT'] == 'RUB' else x['COUPONVALUE']*data['Valute'][x['FACEUNIT']]['Value'],axis=1)"
   ]
  },
  {
   "cell_type": "code",
   "execution_count": 21,
   "metadata": {},
   "outputs": [],
   "source": [
    "# Получение сегоднешней даты\n",
    "today = datetime.date.today()"
   ]
  },
  {
   "cell_type": "code",
   "execution_count": 22,
   "metadata": {},
   "outputs": [],
   "source": [
    "#Промежуточное вычисление, значение показывающее будит ли погашена облигация в течение года, от сегоднешней даты, или нет\n",
    "d1 = df1['MATDATE'].dt.date - today\n",
    "df1['D1'] = d1"
   ]
  },
  {
   "cell_type": "code",
   "execution_count": 23,
   "metadata": {},
   "outputs": [],
   "source": [
    "#Получение количества купонов за год(или до даты погашения облигации) \n",
    "d2=[]\n",
    "for i2 in range(len(df1['MATDATE'])):\n",
    "    i3=0\n",
    "    if df1['D1'].iloc[i2].days >= 365:\n",
    "        d2.append(df1['COUPONFREQUENCY'].iloc[i2])\n",
    "    else:\n",
    "        d3 = df1['D1'].iloc[i2].days - df1['COUPONDAYSPASSED'].iloc[i2]\n",
    "        while d3 > 0:\n",
    "            i3+=1\n",
    "            d3 -= df1['COUPONLENGTH'].iloc[i2]\n",
    "        d2.append(i3)\n",
    "df1['D2'] = d2"
   ]
  },
  {
   "cell_type": "code",
   "execution_count": 24,
   "metadata": {},
   "outputs": [],
   "source": [
    "#Задание 1. Оценить рынок рублевых облигаций по распределению купонной доходности.\n",
    "df1['PROFIT'] = np.where(df1['MATDATE'].dt.date < today + timedelta(days=365),\n",
    "                          \n",
    "                          \n",
    "                                np.where((df1['FACEVALUE_RUB'] - df1['PRICE_RUB']) <= 0,\n",
    "                                         100*(0.87 * df1['COUPONVALUE_RUB'] * df1['D2'] - df1['NKD_RUB'] +(df1['FACEVALUE_RUB'] - df1['PRICE_RUB']))/((df1['PRICE_RUB']+df1['NKD_RUB'])*(1+0.06/100+0.0125/100)),\n",
    "                                         100*(0.87 * df1['COUPONVALUE_RUB'] * df1['D2'] - df1['NKD_RUB'] + 0.87 * (df1['FACEVALUE_RUB'] - df1['PRICE_RUB']))/((df1['PRICE_RUB']+df1['NKD_RUB'])*(1+0.06/100+0.0125/100))),\n",
    "                          \n",
    "                          \n",
    "                                np.where((df1['FACEVALUE_RUB'] - df1['PRICE_RUB']) <= 0,\n",
    "                                         100*(0.87 * df1['COUPONVALUE_RUB'] * df1['COUPONFREQUENCY'] - df1['NKD_RUB'] +(df1['FACEVALUE_RUB'] - df1['PRICE_RUB']))/((df1['PRICE_RUB']+df1['NKD_RUB'])*(1+0.06/100+0.0125/100)),\n",
    "                                        100*(0.87 * df1['COUPONVALUE_RUB'] * df1['COUPONFREQUENCY'] - df1['NKD_RUB'] + 0.87 * (df1['FACEVALUE_RUB'] - df1['PRICE_RUB']))/((df1['PRICE_RUB']+df1['NKD_RUB'])*(1+0.06/100+0.0125/100))))"
   ]
  },
  {
   "cell_type": "code",
   "execution_count": 25,
   "metadata": {},
   "outputs": [
    {
     "name": "stdout",
     "output_type": "stream",
     "text": [
      "min ->  -57.459760776345156\n",
      "max ->  3713.7387848813214\n"
     ]
    }
   ],
   "source": [
    "#max и min PROFIT, для разбиения доходности на категории\n",
    "print('min -> ',df1['PROFIT'].min())\n",
    "print('max -> ',df1['PROFIT'].max())"
   ]
  },
  {
   "cell_type": "code",
   "execution_count": 26,
   "metadata": {},
   "outputs": [],
   "source": [
    "#разделение на кластеры по купонной доходности\n",
    "cut_labels_7 = ['< 0', '0 - 5', '5 - 10', '10 - 50', '50 - 90', '90 - 110', '110 - 500', '> 500']\n",
    "cut_bins = [-100, 0, 5, 10, 50, 90, 110, 500, 5000]\n",
    "\n",
    "df1['cut_ex'] = pd.cut(df1['PROFIT'], bins=cut_bins, labels=cut_labels_7)"
   ]
  },
  {
   "cell_type": "code",
   "execution_count": 27,
   "metadata": {},
   "outputs": [
    {
     "data": {
      "text/plain": [
       "cut_ex\n",
       "< 0          335\n",
       "0 - 5        532\n",
       "5 - 10       647\n",
       "10 - 50      727\n",
       "50 - 90       32\n",
       "90 - 110       4\n",
       "110 - 500     11\n",
       "> 500         24\n",
       "Name: SECID, dtype: int64"
      ]
     },
     "execution_count": 27,
     "metadata": {},
     "output_type": "execute_result"
    }
   ],
   "source": [
    "#Подсчет количества облигаций по категории доходности\n",
    "cut_ex = df1.groupby('cut_ex', dropna=False).count()['SECID']\n",
    "cut_ex"
   ]
  },
  {
   "cell_type": "code",
   "execution_count": 28,
   "metadata": {},
   "outputs": [
    {
     "data": {
      "text/plain": [
       "<AxesSubplot:xlabel='cut_ex'>"
      ]
     },
     "execution_count": 28,
     "metadata": {},
     "output_type": "execute_result"
    },
    {
     "data": {
      "image/png": "[encoded data removed]",
      "text/plain": [
       "<Figure size 640x480 with 1 Axes>"
      ]
     },
     "metadata": {},
     "output_type": "display_data"
    }
   ],
   "source": [
    "#Отображение диаграммы количество облигаций по категориям доходности\n",
    "cut_ex.plot(kind='bar')"
   ]
  },
  {
   "cell_type": "code",
   "execution_count": 29,
   "metadata": {},
   "outputs": [
    {
     "data": {
      "text/html": [
       "<div>\n",
       "<style scoped>\n",
       "    .dataframe tbody tr th:only-of-type {\n",
       "        vertical-align: middle;\n",
       "    }\n",
       "\n",
       "    .dataframe tbody tr th {\n",
       "        vertical-align: top;\n",
       "    }\n",
       "\n",
       "    .dataframe thead tr th {\n",
       "        text-align: left;\n",
       "    }\n",
       "\n",
       "    .dataframe thead tr:last-of-type th {\n",
       "        text-align: right;\n",
       "    }\n",
       "</style>\n",
       "<table border=\"1\" class=\"dataframe\">\n",
       "  <thead>\n",
       "    <tr>\n",
       "      <th></th>\n",
       "      <th colspan=\"4\" halign=\"left\">COUPONPERCENT</th>\n",
       "    </tr>\n",
       "    <tr>\n",
       "      <th></th>\n",
       "      <th>mean</th>\n",
       "      <th>min</th>\n",
       "      <th>max</th>\n",
       "      <th>count</th>\n",
       "    </tr>\n",
       "    <tr>\n",
       "      <th>cut_ex</th>\n",
       "      <th></th>\n",
       "      <th></th>\n",
       "      <th></th>\n",
       "      <th></th>\n",
       "    </tr>\n",
       "  </thead>\n",
       "  <tbody>\n",
       "    <tr>\n",
       "      <th>&lt; 0</th>\n",
       "      <td>7.383933</td>\n",
       "      <td>0.01</td>\n",
       "      <td>21.1</td>\n",
       "      <td>330</td>\n",
       "    </tr>\n",
       "    <tr>\n",
       "      <th>0 - 5</th>\n",
       "      <td>6.872350</td>\n",
       "      <td>0.01</td>\n",
       "      <td>20.0</td>\n",
       "      <td>532</td>\n",
       "    </tr>\n",
       "    <tr>\n",
       "      <th>5 - 10</th>\n",
       "      <td>7.347768</td>\n",
       "      <td>0.01</td>\n",
       "      <td>24.0</td>\n",
       "      <td>646</td>\n",
       "    </tr>\n",
       "    <tr>\n",
       "      <th>10 - 50</th>\n",
       "      <td>5.386655</td>\n",
       "      <td>0.01</td>\n",
       "      <td>24.0</td>\n",
       "      <td>722</td>\n",
       "    </tr>\n",
       "    <tr>\n",
       "      <th>50 - 90</th>\n",
       "      <td>4.787645</td>\n",
       "      <td>0.01</td>\n",
       "      <td>25.0</td>\n",
       "      <td>31</td>\n",
       "    </tr>\n",
       "    <tr>\n",
       "      <th>90 - 110</th>\n",
       "      <td>5.190000</td>\n",
       "      <td>0.51</td>\n",
       "      <td>8.5</td>\n",
       "      <td>4</td>\n",
       "    </tr>\n",
       "    <tr>\n",
       "      <th>110 - 500</th>\n",
       "      <td>6.650000</td>\n",
       "      <td>0.10</td>\n",
       "      <td>16.0</td>\n",
       "      <td>11</td>\n",
       "    </tr>\n",
       "    <tr>\n",
       "      <th>&gt; 500</th>\n",
       "      <td>8.362500</td>\n",
       "      <td>0.10</td>\n",
       "      <td>15.0</td>\n",
       "      <td>24</td>\n",
       "    </tr>\n",
       "  </tbody>\n",
       "</table>\n",
       "</div>"
      ],
      "text/plain": [
       "          COUPONPERCENT                  \n",
       "                   mean   min   max count\n",
       "cut_ex                                   \n",
       "< 0            7.383933  0.01  21.1   330\n",
       "0 - 5          6.872350  0.01  20.0   532\n",
       "5 - 10         7.347768  0.01  24.0   646\n",
       "10 - 50        5.386655  0.01  24.0   722\n",
       "50 - 90        4.787645  0.01  25.0    31\n",
       "90 - 110       5.190000  0.51   8.5     4\n",
       "110 - 500      6.650000  0.10  16.0    11\n",
       "> 500          8.362500  0.10  15.0    24"
      ]
     },
     "execution_count": 29,
     "metadata": {},
     "output_type": "execute_result"
    }
   ],
   "source": [
    "#Агрегированные значения по полю COUPONPERCENT\n",
    "df1[['COUPONPERCENT', 'cut_ex']].groupby('cut_ex', dropna=False).agg(['mean','min','max','count'])"
   ]
  },
  {
   "cell_type": "code",
   "execution_count": 30,
   "metadata": {},
   "outputs": [
    {
     "data": {
      "text/plain": [
       "<AxesSubplot:xlabel='COUPONPERCENT'>"
      ]
     },
     "execution_count": 30,
     "metadata": {},
     "output_type": "execute_result"
    },
    {
     "data": {
      "image/png": "[encoded data removed]",
      "text/plain": [
       "<Figure size 640x480 with 1 Axes>"
      ]
     },
     "metadata": {},
     "output_type": "display_data"
    }
   ],
   "source": [
    "#Отображение графика количества облигаций по Ставки купона в % \n",
    "cut_ex1 = df1.groupby('COUPONPERCENT', dropna=False).count()['SECID']\n",
    "cut_ex1.plot()"
   ]
  },
  {
   "cell_type": "code",
   "execution_count": 31,
   "metadata": {},
   "outputs": [
    {
     "data": {
      "image/png": "[encoded data removed]",
      "text/plain": [
       "<Figure size 2000x500 with 9 Axes>"
      ]
     },
     "metadata": {},
     "output_type": "display_data"
    }
   ],
   "source": [
    "#Отображение графиков количества облигаций по Ставки купона в % сгруппированных по cut_ex\n",
    "fig, axes = plt.subplots(1, len(df1['cut_ex'].unique()), figsize=(20, 5))\n",
    "for i in range(len(df1['cut_ex'].unique())):\n",
    "    title = df1['cut_ex'].unique()[i]\n",
    "    #df1.groupby('COUPONPERCENT', dropna=False).count()['SECID']\n",
    "    x = df1[df1['cut_ex'] == title].groupby('COUPONPERCENT', dropna=False).count()['SECID']\n",
    "    axes[i].plot(x)\n",
    "    axes[i].set_title(title)"
   ]
  },
  {
   "cell_type": "markdown",
   "metadata": {},
   "source": [
    "Выводы:\n",
    "1. Анализируя категории cut_ex, делаем вывод, чем больше доходность облигации, тем больше разница между номинальной стоимостью и котировкой(ценой последней продажи облигации)\n",
    "2. На отрицательную доходность облигации влияет также номинальная стоимость и котировка. Котировка в категории '< 0' выше номинальной стоимости.\n",
    "3. Также на доходность облигаций влияет COUPONPERCENT - Ставка купона, %. Она варируется от 0.01 - до 25 %"
   ]
  },
  {
   "cell_type": "code",
   "execution_count": 33,
   "metadata": {},
   "outputs": [],
   "source": [
    "#2 задание\n",
    "#определение облигаций с датой промежуточной выплаты по купонам не более 20% купонного периода назад\n",
    "#до текущей даты и облигациям выпущенным в аналогичный период\n",
    "date2 = df1[(df1['FACEUNIT'] == 'RUB') & (df1['COUPONDAYSPASSED']/df1['COUPONLENGTH'] <= 0.2)]['ISSUEDATE'].unique()\n",
    "df2 = df1[df1['ISSUEDATE'].isin(date2)]"
   ]
  },
  {
   "cell_type": "code",
   "execution_count": 34,
   "metadata": {},
   "outputs": [],
   "source": [
    "#рассчет доходности последующих купонов по отобранным облигациям с учетом разницы номинала и цены продажи, \n",
    "#а также с учетом налоговых отчислений на период год с текущей дата\n",
    "df2['PROFIT2'] = np.where(df2['MATDATE'].dt.date < today + timedelta(days=365),\n",
    "                          \n",
    "                          \n",
    "                                np.where((df2['FACEVALUE_RUB'] - df2['PRICE_RUB']) <= 0,\n",
    "                                         100*(0.87 * df2['COUPONVALUE_RUB'] * df2['D2'] - df2['NKD_RUB'] +(df2['FACEVALUE_RUB'] - df2['PRICE_RUB']))/((df2['PRICE_RUB']+df2['NKD_RUB'])*(1+0.06/100+0.0125/100)),\n",
    "                                         100*(0.87 * df2['COUPONVALUE_RUB'] * df2['D2'] - df2['NKD_RUB'] + 0.87 * (df2['FACEVALUE_RUB'] - df2['PRICE_RUB']))/((df2['PRICE_RUB']+df2['NKD_RUB'])*(1+0.06/100+0.0125/100))),\n",
    "                          \n",
    "                          \n",
    "                                np.where((df2['FACEVALUE_RUB'] - df2['PRICE_RUB']) <= 0,\n",
    "                                         100*(0.87 * df2['COUPONVALUE_RUB'] * df2['COUPONFREQUENCY'] - df2['NKD_RUB'] +(df2['FACEVALUE_RUB'] - df2['PRICE_RUB']))/((df2['PRICE_RUB']+df2['NKD_RUB'])*(1+0.06/100+0.0125/100)),\n",
    "                                        100*(0.87 * df2['COUPONVALUE_RUB'] * df2['COUPONFREQUENCY'] - df2['NKD_RUB'] + 0.87 * (df2['FACEVALUE_RUB'] - df2['PRICE_RUB']))/((df2['PRICE_RUB']+df2['NKD_RUB'])*(1+0.06/100+0.0125/100))))"
   ]
  },
  {
   "cell_type": "code",
   "execution_count": 35,
   "metadata": {},
   "outputs": [
    {
     "name": "stdout",
     "output_type": "stream",
     "text": [
      "min ->  -38.46715619441486\n",
      "max ->  1737.5063547742977\n"
     ]
    }
   ],
   "source": [
    "print('min -> ',df2['PROFIT2'].min())\n",
    "print('max -> ',df2['PROFIT2'].max())"
   ]
  },
  {
   "cell_type": "code",
   "execution_count": 36,
   "metadata": {},
   "outputs": [],
   "source": [
    "#разделение на кластеры по купонной доходности\n",
    "cut_labels_7 = ['< 0', '0 - 5', '5 - 10', '10 - 50', '50 - 90', '90 - 110', '110 - 500', '> 500']\n",
    "cut_bins = [-100, 0, 5, 10, 50, 90, 110, 500, 5000]\n",
    "\n",
    "df2['cut_ex2'] = pd.cut(df2['PROFIT2'], bins=cut_bins, labels=cut_labels_7)"
   ]
  },
  {
   "cell_type": "code",
   "execution_count": 37,
   "metadata": {},
   "outputs": [
    {
     "data": {
      "text/plain": [
       "cut_ex2\n",
       "< 0           55\n",
       "0 - 5        110\n",
       "5 - 10       226\n",
       "10 - 50      247\n",
       "50 - 90       14\n",
       "90 - 110       0\n",
       "110 - 500      2\n",
       "> 500         10\n",
       "Name: SECID, dtype: int64"
      ]
     },
     "execution_count": 37,
     "metadata": {},
     "output_type": "execute_result"
    }
   ],
   "source": [
    "#Подсчет количества облигаций по категории доходности\n",
    "cut_ex2 = df2.groupby('cut_ex2', dropna=False).count()['SECID']\n",
    "cut_ex2"
   ]
  },
  {
   "cell_type": "code",
   "execution_count": 38,
   "metadata": {},
   "outputs": [
    {
     "data": {
      "text/plain": [
       "<AxesSubplot:xlabel='cut_ex2'>"
      ]
     },
     "execution_count": 38,
     "metadata": {},
     "output_type": "execute_result"
    },
    {
     "data": {
      "image/png": "[encoded data removed]",
      "text/plain": [
       "<Figure size 640x480 with 1 Axes>"
      ]
     },
     "metadata": {},
     "output_type": "display_data"
    }
   ],
   "source": [
    "#Отображение диаграммы количество облигаций по категориям доходности\n",
    "cut_ex2.plot(kind='bar')"
   ]
  },
  {
   "cell_type": "code",
   "execution_count": 41,
   "metadata": {},
   "outputs": [
    {
     "data": {
      "text/html": [
       "<div>\n",
       "<style scoped>\n",
       "    .dataframe tbody tr th:only-of-type {\n",
       "        vertical-align: middle;\n",
       "    }\n",
       "\n",
       "    .dataframe tbody tr th {\n",
       "        vertical-align: top;\n",
       "    }\n",
       "\n",
       "    .dataframe thead th {\n",
       "        text-align: right;\n",
       "    }\n",
       "</style>\n",
       "<table border=\"1\" class=\"dataframe\">\n",
       "  <thead>\n",
       "    <tr style=\"text-align: right;\">\n",
       "      <th></th>\n",
       "      <th>SECID</th>\n",
       "      <th>NAME</th>\n",
       "      <th>FACEUNIT</th>\n",
       "      <th>COUPONFREQUENCY</th>\n",
       "      <th>COUPONDATE</th>\n",
       "      <th>COUPONPERCENT</th>\n",
       "      <th>COUPONDAYSPASSED</th>\n",
       "      <th>COUPONLENGTH</th>\n",
       "      <th>EMITENTNAME</th>\n",
       "      <th>PRICE_RUB</th>\n",
       "      <th>ISSUEDATE</th>\n",
       "      <th>MATDATE</th>\n",
       "      <th>FACEVALUE_RUB</th>\n",
       "      <th>NKD_RUB</th>\n",
       "      <th>COUPONVALUE_RUB</th>\n",
       "      <th>PROFIT2</th>\n",
       "      <th>cut_ex2</th>\n",
       "    </tr>\n",
       "  </thead>\n",
       "  <tbody>\n",
       "    <tr>\n",
       "      <th>0</th>\n",
       "      <td>AMUNIBB2AER2</td>\n",
       "      <td>UNIBANK OJSC Series 1</td>\n",
       "      <td>USD</td>\n",
       "      <td>4.0</td>\n",
       "      <td>2022-11-15</td>\n",
       "      <td>5.25</td>\n",
       "      <td>90.0</td>\n",
       "      <td>92.0</td>\n",
       "      <td>\"UNIBANK\" OPENED JOINT STOCK COMPANY</td>\n",
       "      <td>6039.26</td>\n",
       "      <td>15.11.2019</td>\n",
       "      <td>2022-11-15</td>\n",
       "      <td>6021.790</td>\n",
       "      <td>77.317820</td>\n",
       "      <td>79.035994</td>\n",
       "      <td>-1.548564</td>\n",
       "      <td>&lt; 0</td>\n",
       "    </tr>\n",
       "    <tr>\n",
       "      <th>16</th>\n",
       "      <td>RU000A0JR4U9</td>\n",
       "      <td>Главная дорога АО об.сер. 03</td>\n",
       "      <td>RUB</td>\n",
       "      <td>1.0</td>\n",
       "      <td>2023-11-06</td>\n",
       "      <td>16.99</td>\n",
       "      <td>6.0</td>\n",
       "      <td>364.0</td>\n",
       "      <td>Акционерное общество \"Главная дорога\"</td>\n",
       "      <td>707.29</td>\n",
       "      <td>22.11.2010</td>\n",
       "      <td>2028-10-30</td>\n",
       "      <td>750.000</td>\n",
       "      <td>2.094725</td>\n",
       "      <td>127.080000</td>\n",
       "      <td>20.513139</td>\n",
       "      <td>10 - 50</td>\n",
       "    </tr>\n",
       "    <tr>\n",
       "      <th>27</th>\n",
       "      <td>RU000A0JS6M0</td>\n",
       "      <td>РОСБАНК ПАО обл. БО-05</td>\n",
       "      <td>RUB</td>\n",
       "      <td>2.0</td>\n",
       "      <td>2023-04-21</td>\n",
       "      <td>6.75</td>\n",
       "      <td>23.0</td>\n",
       "      <td>182.0</td>\n",
       "      <td>Публичное акционерное общество РОСБАНК</td>\n",
       "      <td>987.74</td>\n",
       "      <td>21.10.2013</td>\n",
       "      <td>2023-10-21</td>\n",
       "      <td>1000.000</td>\n",
       "      <td>4.253736</td>\n",
       "      <td>33.660000</td>\n",
       "      <td>6.545786</td>\n",
       "      <td>5 - 10</td>\n",
       "    </tr>\n",
       "    <tr>\n",
       "      <th>29</th>\n",
       "      <td>RU000A0JS934</td>\n",
       "      <td>Евразийский банк развития 11</td>\n",
       "      <td>RUB</td>\n",
       "      <td>2.0</td>\n",
       "      <td>2023-01-27</td>\n",
       "      <td>7.35</td>\n",
       "      <td>107.0</td>\n",
       "      <td>182.0</td>\n",
       "      <td>Евразийский банк развития</td>\n",
       "      <td>1009.35</td>\n",
       "      <td>02.02.2018</td>\n",
       "      <td>2025-01-24</td>\n",
       "      <td>1000.000</td>\n",
       "      <td>21.546978</td>\n",
       "      <td>36.650000</td>\n",
       "      <td>3.186565</td>\n",
       "      <td>0 - 5</td>\n",
       "    </tr>\n",
       "    <tr>\n",
       "      <th>36</th>\n",
       "      <td>RU000A0JT7T2</td>\n",
       "      <td>ФСК Россети(ПАО)-обл. сер.21</td>\n",
       "      <td>RUB</td>\n",
       "      <td>2.0</td>\n",
       "      <td>2023-04-12</td>\n",
       "      <td>7.40</td>\n",
       "      <td>32.0</td>\n",
       "      <td>182.0</td>\n",
       "      <td>Публичное акционерное общество \"Федеральная се...</td>\n",
       "      <td>994.79</td>\n",
       "      <td>24.10.2012</td>\n",
       "      <td>2027-10-06</td>\n",
       "      <td>1000.000</td>\n",
       "      <td>6.487912</td>\n",
       "      <td>36.900000</td>\n",
       "      <td>6.212630</td>\n",
       "      <td>5 - 10</td>\n",
       "    </tr>\n",
       "    <tr>\n",
       "      <th>...</th>\n",
       "      <td>...</td>\n",
       "      <td>...</td>\n",
       "      <td>...</td>\n",
       "      <td>...</td>\n",
       "      <td>...</td>\n",
       "      <td>...</td>\n",
       "      <td>...</td>\n",
       "      <td>...</td>\n",
       "      <td>...</td>\n",
       "      <td>...</td>\n",
       "      <td>...</td>\n",
       "      <td>...</td>\n",
       "      <td>...</td>\n",
       "      <td>...</td>\n",
       "      <td>...</td>\n",
       "      <td>...</td>\n",
       "      <td>...</td>\n",
       "    </tr>\n",
       "    <tr>\n",
       "      <th>2636</th>\n",
       "      <td>XS2413860409</td>\n",
       "      <td>BCS SP Plc Series 231</td>\n",
       "      <td>USD</td>\n",
       "      <td>4.0</td>\n",
       "      <td>2023-01-01</td>\n",
       "      <td>NaN</td>\n",
       "      <td>43.0</td>\n",
       "      <td>92.0</td>\n",
       "      <td>BrokerCreditService Structured Products Plc</td>\n",
       "      <td>57918.67</td>\n",
       "      <td>25.11.2021</td>\n",
       "      <td>2025-04-01</td>\n",
       "      <td>75272.375</td>\n",
       "      <td>NaN</td>\n",
       "      <td>NaN</td>\n",
       "      <td>NaN</td>\n",
       "      <td>NaN</td>\n",
       "    </tr>\n",
       "    <tr>\n",
       "      <th>2638</th>\n",
       "      <td>XS2416961386</td>\n",
       "      <td>BCS SP Plc Series 232</td>\n",
       "      <td>USD</td>\n",
       "      <td>4.0</td>\n",
       "      <td>2022-12-08</td>\n",
       "      <td>NaN</td>\n",
       "      <td>66.0</td>\n",
       "      <td>91.0</td>\n",
       "      <td>BrokerCreditService Structured Products Plc</td>\n",
       "      <td>75287.50</td>\n",
       "      <td>30.11.2021</td>\n",
       "      <td>2024-12-08</td>\n",
       "      <td>75272.375</td>\n",
       "      <td>NaN</td>\n",
       "      <td>NaN</td>\n",
       "      <td>NaN</td>\n",
       "      <td>NaN</td>\n",
       "    </tr>\n",
       "    <tr>\n",
       "      <th>2641</th>\n",
       "      <td>XS2417684813</td>\n",
       "      <td>BCS SP Plc Series 233</td>\n",
       "      <td>USD</td>\n",
       "      <td>4.0</td>\n",
       "      <td>2022-12-08</td>\n",
       "      <td>NaN</td>\n",
       "      <td>66.0</td>\n",
       "      <td>91.0</td>\n",
       "      <td>BrokerCreditService Structured Products Plc</td>\n",
       "      <td>75287.50</td>\n",
       "      <td>30.11.2021</td>\n",
       "      <td>2023-12-08</td>\n",
       "      <td>75272.375</td>\n",
       "      <td>NaN</td>\n",
       "      <td>NaN</td>\n",
       "      <td>NaN</td>\n",
       "      <td>NaN</td>\n",
       "    </tr>\n",
       "    <tr>\n",
       "      <th>2645</th>\n",
       "      <td>XS2423361190</td>\n",
       "      <td>BCS SP Plc Series 240</td>\n",
       "      <td>USD</td>\n",
       "      <td>4.0</td>\n",
       "      <td>2022-11-28</td>\n",
       "      <td>NaN</td>\n",
       "      <td>75.0</td>\n",
       "      <td>90.0</td>\n",
       "      <td>BrokerCreditService Structured Products Plc</td>\n",
       "      <td>75219.74</td>\n",
       "      <td>27.01.2022</td>\n",
       "      <td>2027-02-28</td>\n",
       "      <td>75272.375</td>\n",
       "      <td>NaN</td>\n",
       "      <td>NaN</td>\n",
       "      <td>NaN</td>\n",
       "      <td>NaN</td>\n",
       "    </tr>\n",
       "    <tr>\n",
       "      <th>2647</th>\n",
       "      <td>XS2439218640</td>\n",
       "      <td>BCS SP Plc Series 244</td>\n",
       "      <td>USD</td>\n",
       "      <td>4.0</td>\n",
       "      <td>2022-12-02</td>\n",
       "      <td>NaN</td>\n",
       "      <td>72.0</td>\n",
       "      <td>91.0</td>\n",
       "      <td>BrokerCreditService Structured Products Plc</td>\n",
       "      <td>73442.96</td>\n",
       "      <td>28.01.2022</td>\n",
       "      <td>2025-06-02</td>\n",
       "      <td>75272.375</td>\n",
       "      <td>NaN</td>\n",
       "      <td>NaN</td>\n",
       "      <td>NaN</td>\n",
       "      <td>NaN</td>\n",
       "    </tr>\n",
       "  </tbody>\n",
       "</table>\n",
       "<p>882 rows × 17 columns</p>\n",
       "</div>"
      ],
      "text/plain": [
       "             SECID                          NAME FACEUNIT  COUPONFREQUENCY  \\\n",
       "0     AMUNIBB2AER2         UNIBANK OJSC Series 1      USD              4.0   \n",
       "16    RU000A0JR4U9  Главная дорога АО об.сер. 03      RUB              1.0   \n",
       "27    RU000A0JS6M0        РОСБАНК ПАО обл. БО-05      RUB              2.0   \n",
       "29    RU000A0JS934  Евразийский банк развития 11      RUB              2.0   \n",
       "36    RU000A0JT7T2  ФСК Россети(ПАО)-обл. сер.21      RUB              2.0   \n",
       "...            ...                           ...      ...              ...   \n",
       "2636  XS2413860409         BCS SP Plc Series 231      USD              4.0   \n",
       "2638  XS2416961386         BCS SP Plc Series 232      USD              4.0   \n",
       "2641  XS2417684813         BCS SP Plc Series 233      USD              4.0   \n",
       "2645  XS2423361190         BCS SP Plc Series 240      USD              4.0   \n",
       "2647  XS2439218640         BCS SP Plc Series 244      USD              4.0   \n",
       "\n",
       "     COUPONDATE  COUPONPERCENT  COUPONDAYSPASSED  COUPONLENGTH  \\\n",
       "0    2022-11-15           5.25              90.0          92.0   \n",
       "16   2023-11-06          16.99               6.0         364.0   \n",
       "27   2023-04-21           6.75              23.0         182.0   \n",
       "29   2023-01-27           7.35             107.0         182.0   \n",
       "36   2023-04-12           7.40              32.0         182.0   \n",
       "...         ...            ...               ...           ...   \n",
       "2636 2023-01-01            NaN              43.0          92.0   \n",
       "2638 2022-12-08            NaN              66.0          91.0   \n",
       "2641 2022-12-08            NaN              66.0          91.0   \n",
       "2645 2022-11-28            NaN              75.0          90.0   \n",
       "2647 2022-12-02            NaN              72.0          91.0   \n",
       "\n",
       "                                            EMITENTNAME  PRICE_RUB  \\\n",
       "0                  \"UNIBANK\" OPENED JOINT STOCK COMPANY    6039.26   \n",
       "16                Акционерное общество \"Главная дорога\"     707.29   \n",
       "27               Публичное акционерное общество РОСБАНК     987.74   \n",
       "29                            Евразийский банк развития    1009.35   \n",
       "36    Публичное акционерное общество \"Федеральная се...     994.79   \n",
       "...                                                 ...        ...   \n",
       "2636        BrokerCreditService Structured Products Plc   57918.67   \n",
       "2638        BrokerCreditService Structured Products Plc   75287.50   \n",
       "2641        BrokerCreditService Structured Products Plc   75287.50   \n",
       "2645        BrokerCreditService Structured Products Plc   75219.74   \n",
       "2647        BrokerCreditService Structured Products Plc   73442.96   \n",
       "\n",
       "       ISSUEDATE    MATDATE  FACEVALUE_RUB    NKD_RUB  COUPONVALUE_RUB  \\\n",
       "0     15.11.2019 2022-11-15       6021.790  77.317820        79.035994   \n",
       "16    22.11.2010 2028-10-30        750.000   2.094725       127.080000   \n",
       "27    21.10.2013 2023-10-21       1000.000   4.253736        33.660000   \n",
       "29    02.02.2018 2025-01-24       1000.000  21.546978        36.650000   \n",
       "36    24.10.2012 2027-10-06       1000.000   6.487912        36.900000   \n",
       "...          ...        ...            ...        ...              ...   \n",
       "2636  25.11.2021 2025-04-01      75272.375        NaN              NaN   \n",
       "2638  30.11.2021 2024-12-08      75272.375        NaN              NaN   \n",
       "2641  30.11.2021 2023-12-08      75272.375        NaN              NaN   \n",
       "2645  27.01.2022 2027-02-28      75272.375        NaN              NaN   \n",
       "2647  28.01.2022 2025-06-02      75272.375        NaN              NaN   \n",
       "\n",
       "        PROFIT2  cut_ex2  \n",
       "0     -1.548564      < 0  \n",
       "16    20.513139  10 - 50  \n",
       "27     6.545786   5 - 10  \n",
       "29     3.186565    0 - 5  \n",
       "36     6.212630   5 - 10  \n",
       "...         ...      ...  \n",
       "2636        NaN      NaN  \n",
       "2638        NaN      NaN  \n",
       "2641        NaN      NaN  \n",
       "2645        NaN      NaN  \n",
       "2647        NaN      NaN  \n",
       "\n",
       "[882 rows x 17 columns]"
      ]
     },
     "execution_count": 41,
     "metadata": {},
     "output_type": "execute_result"
    }
   ],
   "source": [
    "#отображение таблицы\n",
    "df2[['SECID', 'NAME', 'FACEUNIT', 'COUPONFREQUENCY', 'COUPONDATE', 'COUPONPERCENT', \n",
    "'COUPONDAYSPASSED', 'COUPONLENGTH', 'EMITENTNAME', 'PRICE_RUB', 'ISSUEDATE', 'MATDATE',\n",
    "'FACEVALUE_RUB', 'NKD_RUB', 'COUPONVALUE_RUB', 'PROFIT2', 'cut_ex2']]"
   ]
  }
 ],
 "metadata": {
  "kernelspec": {
   "display_name": "Python 3 (ipykernel)",
   "language": "python",
   "name": "python3"
  },
  "language_info": {
   "codemirror_mode": {
    "name": "ipython",
    "version": 3
   },
   "file_extension": ".py",
   "mimetype": "text/x-python",
   "name": "python",
   "nbconvert_exporter": "python",
   "pygments_lexer": "ipython3",
   "version": "3.9.13"
  }
 },
 "nbformat": 4,
 "nbformat_minor": 4
}
