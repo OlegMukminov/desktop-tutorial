{
 "cells": [
  {
   "cell_type": "code",
   "execution_count": 2,
   "metadata": {},
   "outputs": [],
   "source": [
    "import pandas as pd \n",
    "import numpy as np\n",
    "import matplotlib.pyplot as plt\n",
    "from sklearn.model_selection import train_test_split\n",
    "from sklearn.linear_model import LinearRegression\n",
    "from sklearn.metrics import mean_absolute_error"
   ]
  },
  {
   "cell_type": "code",
   "execution_count": 3,
   "metadata": {},
   "outputs": [],
   "source": [
    "df = pd.read_excel('eur_rub.xlsx')"
   ]
  },
  {
   "cell_type": "code",
   "execution_count": 4,
   "metadata": {},
   "outputs": [
    {
     "name": "stdout",
     "output_type": "stream",
     "text": [
      "<class 'pandas.core.frame.DataFrame'>\n",
      "RangeIndex: 274 entries, 0 to 273\n",
      "Data columns (total 2 columns):\n",
      " #   Column  Non-Null Count  Dtype         \n",
      "---  ------  --------------  -----         \n",
      " 0   Date    274 non-null    datetime64[ns]\n",
      " 1   Cur     274 non-null    float64       \n",
      "dtypes: datetime64[ns](1), float64(1)\n",
      "memory usage: 4.4 KB\n"
     ]
    }
   ],
   "source": [
    "df.info()"
   ]
  },
  {
   "cell_type": "code",
   "execution_count": 5,
   "metadata": {},
   "outputs": [],
   "source": [
    "df = df.sort_values(by='Date').reset_index(drop=True)"
   ]
  },
  {
   "cell_type": "code",
   "execution_count": 6,
   "metadata": {},
   "outputs": [
    {
     "data": {
      "text/plain": [
       "<matplotlib.axes._subplots.AxesSubplot at 0x3f42efb490>"
      ]
     },
     "execution_count": 6,
     "metadata": {},
     "output_type": "execute_result"
    },
    {
     "data": {
      "image/png": "[encoded data removed]",
      "text/plain": [
       "<Figure size 432x288 with 1 Axes>"
      ]
     },
     "metadata": {
      "needs_background": "light"
     },
     "output_type": "display_data"
    }
   ],
   "source": [
    "df.set_index('Date').plot()"
   ]
  },
  {
   "cell_type": "code",
   "execution_count": 7,
   "metadata": {},
   "outputs": [],
   "source": [
    "date0510 = df.iloc[-1]\n",
    "df = df.drop(len(df)-1,axis=0)"
   ]
  },
  {
   "cell_type": "code",
   "execution_count": 8,
   "metadata": {},
   "outputs": [
    {
     "data": {
      "text/plain": [
       "57.7078"
      ]
     },
     "execution_count": 8,
     "metadata": {},
     "output_type": "execute_result"
    }
   ],
   "source": [
    "date0510['Cur']"
   ]
  },
  {
   "cell_type": "code",
   "execution_count": 9,
   "metadata": {},
   "outputs": [],
   "source": [
    "df.set_index('Date', inplace=True)"
   ]
  },
  {
   "cell_type": "code",
   "execution_count": 10,
   "metadata": {},
   "outputs": [],
   "source": [
    "#функция по созданию сгенерерованных признаков\n",
    "def make_features(data, max_lag, rolling_min_size):\n",
    "    data['year'] = data.index.year\n",
    "    data['month'] = data.index.month\n",
    "    data['day'] = data.index.day\n",
    "    data['dayofweek'] = data.index.dayofweek\n",
    "    data['is_weekend'] = data.index.isin([5,6])*1\n",
    "    \n",
    "    for lag in range(1, max_lag + 1):\n",
    "        data['lag_{}'.format(lag)] = data['Cur'].shift(lag)\n",
    "    \n",
    "    data['y_mean'] = data['Cur'].shift().rolling(rolling_min_size).mean().copy()"
   ]
  },
  {
   "cell_type": "code",
   "execution_count": 11,
   "metadata": {},
   "outputs": [],
   "source": [
    "make_features(df,30,3)"
   ]
  },
  {
   "cell_type": "code",
   "execution_count": 12,
   "metadata": {},
   "outputs": [
    {
     "data": {
      "text/html": [
       "<div>\n",
       "<style scoped>\n",
       "    .dataframe tbody tr th:only-of-type {\n",
       "        vertical-align: middle;\n",
       "    }\n",
       "\n",
       "    .dataframe tbody tr th {\n",
       "        vertical-align: top;\n",
       "    }\n",
       "\n",
       "    .dataframe thead th {\n",
       "        text-align: right;\n",
       "    }\n",
       "</style>\n",
       "<table border=\"1\" class=\"dataframe\">\n",
       "  <thead>\n",
       "    <tr style=\"text-align: right;\">\n",
       "      <th></th>\n",
       "      <th>Cur</th>\n",
       "      <th>year</th>\n",
       "      <th>month</th>\n",
       "      <th>day</th>\n",
       "      <th>dayofweek</th>\n",
       "      <th>is_weekend</th>\n",
       "      <th>lag_1</th>\n",
       "      <th>lag_2</th>\n",
       "      <th>lag_3</th>\n",
       "      <th>lag_4</th>\n",
       "      <th>...</th>\n",
       "      <th>lag_22</th>\n",
       "      <th>lag_23</th>\n",
       "      <th>lag_24</th>\n",
       "      <th>lag_25</th>\n",
       "      <th>lag_26</th>\n",
       "      <th>lag_27</th>\n",
       "      <th>lag_28</th>\n",
       "      <th>lag_29</th>\n",
       "      <th>lag_30</th>\n",
       "      <th>y_mean</th>\n",
       "    </tr>\n",
       "    <tr>\n",
       "      <th>Date</th>\n",
       "      <th></th>\n",
       "      <th></th>\n",
       "      <th></th>\n",
       "      <th></th>\n",
       "      <th></th>\n",
       "      <th></th>\n",
       "      <th></th>\n",
       "      <th></th>\n",
       "      <th></th>\n",
       "      <th></th>\n",
       "      <th></th>\n",
       "      <th></th>\n",
       "      <th></th>\n",
       "      <th></th>\n",
       "      <th></th>\n",
       "      <th></th>\n",
       "      <th></th>\n",
       "      <th></th>\n",
       "      <th></th>\n",
       "      <th></th>\n",
       "      <th></th>\n",
       "    </tr>\n",
       "  </thead>\n",
       "  <tbody>\n",
       "    <tr>\n",
       "      <th>2021-09-06</th>\n",
       "      <td>86.5670</td>\n",
       "      <td>2021</td>\n",
       "      <td>9</td>\n",
       "      <td>6</td>\n",
       "      <td>0</td>\n",
       "      <td>0</td>\n",
       "      <td>NaN</td>\n",
       "      <td>NaN</td>\n",
       "      <td>NaN</td>\n",
       "      <td>NaN</td>\n",
       "      <td>...</td>\n",
       "      <td>NaN</td>\n",
       "      <td>NaN</td>\n",
       "      <td>NaN</td>\n",
       "      <td>NaN</td>\n",
       "      <td>NaN</td>\n",
       "      <td>NaN</td>\n",
       "      <td>NaN</td>\n",
       "      <td>NaN</td>\n",
       "      <td>NaN</td>\n",
       "      <td>NaN</td>\n",
       "    </tr>\n",
       "    <tr>\n",
       "      <th>2021-09-07</th>\n",
       "      <td>86.9602</td>\n",
       "      <td>2021</td>\n",
       "      <td>9</td>\n",
       "      <td>7</td>\n",
       "      <td>1</td>\n",
       "      <td>0</td>\n",
       "      <td>86.5670</td>\n",
       "      <td>NaN</td>\n",
       "      <td>NaN</td>\n",
       "      <td>NaN</td>\n",
       "      <td>...</td>\n",
       "      <td>NaN</td>\n",
       "      <td>NaN</td>\n",
       "      <td>NaN</td>\n",
       "      <td>NaN</td>\n",
       "      <td>NaN</td>\n",
       "      <td>NaN</td>\n",
       "      <td>NaN</td>\n",
       "      <td>NaN</td>\n",
       "      <td>NaN</td>\n",
       "      <td>NaN</td>\n",
       "    </tr>\n",
       "    <tr>\n",
       "      <th>2021-09-08</th>\n",
       "      <td>86.8606</td>\n",
       "      <td>2021</td>\n",
       "      <td>9</td>\n",
       "      <td>8</td>\n",
       "      <td>2</td>\n",
       "      <td>0</td>\n",
       "      <td>86.9602</td>\n",
       "      <td>86.5670</td>\n",
       "      <td>NaN</td>\n",
       "      <td>NaN</td>\n",
       "      <td>...</td>\n",
       "      <td>NaN</td>\n",
       "      <td>NaN</td>\n",
       "      <td>NaN</td>\n",
       "      <td>NaN</td>\n",
       "      <td>NaN</td>\n",
       "      <td>NaN</td>\n",
       "      <td>NaN</td>\n",
       "      <td>NaN</td>\n",
       "      <td>NaN</td>\n",
       "      <td>NaN</td>\n",
       "    </tr>\n",
       "    <tr>\n",
       "      <th>2021-09-09</th>\n",
       "      <td>86.4067</td>\n",
       "      <td>2021</td>\n",
       "      <td>9</td>\n",
       "      <td>9</td>\n",
       "      <td>3</td>\n",
       "      <td>0</td>\n",
       "      <td>86.8606</td>\n",
       "      <td>86.9602</td>\n",
       "      <td>86.5670</td>\n",
       "      <td>NaN</td>\n",
       "      <td>...</td>\n",
       "      <td>NaN</td>\n",
       "      <td>NaN</td>\n",
       "      <td>NaN</td>\n",
       "      <td>NaN</td>\n",
       "      <td>NaN</td>\n",
       "      <td>NaN</td>\n",
       "      <td>NaN</td>\n",
       "      <td>NaN</td>\n",
       "      <td>NaN</td>\n",
       "      <td>86.795933</td>\n",
       "    </tr>\n",
       "    <tr>\n",
       "      <th>2021-09-10</th>\n",
       "      <td>86.2092</td>\n",
       "      <td>2021</td>\n",
       "      <td>9</td>\n",
       "      <td>10</td>\n",
       "      <td>4</td>\n",
       "      <td>0</td>\n",
       "      <td>86.4067</td>\n",
       "      <td>86.8606</td>\n",
       "      <td>86.9602</td>\n",
       "      <td>86.5670</td>\n",
       "      <td>...</td>\n",
       "      <td>NaN</td>\n",
       "      <td>NaN</td>\n",
       "      <td>NaN</td>\n",
       "      <td>NaN</td>\n",
       "      <td>NaN</td>\n",
       "      <td>NaN</td>\n",
       "      <td>NaN</td>\n",
       "      <td>NaN</td>\n",
       "      <td>NaN</td>\n",
       "      <td>86.742500</td>\n",
       "    </tr>\n",
       "    <tr>\n",
       "      <th>...</th>\n",
       "      <td>...</td>\n",
       "      <td>...</td>\n",
       "      <td>...</td>\n",
       "      <td>...</td>\n",
       "      <td>...</td>\n",
       "      <td>...</td>\n",
       "      <td>...</td>\n",
       "      <td>...</td>\n",
       "      <td>...</td>\n",
       "      <td>...</td>\n",
       "      <td>...</td>\n",
       "      <td>...</td>\n",
       "      <td>...</td>\n",
       "      <td>...</td>\n",
       "      <td>...</td>\n",
       "      <td>...</td>\n",
       "      <td>...</td>\n",
       "      <td>...</td>\n",
       "      <td>...</td>\n",
       "      <td>...</td>\n",
       "      <td>...</td>\n",
       "    </tr>\n",
       "    <tr>\n",
       "      <th>2022-09-28</th>\n",
       "      <td>55.6107</td>\n",
       "      <td>2022</td>\n",
       "      <td>9</td>\n",
       "      <td>28</td>\n",
       "      <td>2</td>\n",
       "      <td>0</td>\n",
       "      <td>55.9617</td>\n",
       "      <td>56.0740</td>\n",
       "      <td>57.0335</td>\n",
       "      <td>59.3158</td>\n",
       "      <td>...</td>\n",
       "      <td>59.9272</td>\n",
       "      <td>59.8881</td>\n",
       "      <td>59.6461</td>\n",
       "      <td>59.5435</td>\n",
       "      <td>59.4359</td>\n",
       "      <td>59.7827</td>\n",
       "      <td>59.6211</td>\n",
       "      <td>60.8438</td>\n",
       "      <td>61.9675</td>\n",
       "      <td>56.356400</td>\n",
       "    </tr>\n",
       "    <tr>\n",
       "      <th>2022-09-29</th>\n",
       "      <td>55.3639</td>\n",
       "      <td>2022</td>\n",
       "      <td>9</td>\n",
       "      <td>29</td>\n",
       "      <td>3</td>\n",
       "      <td>0</td>\n",
       "      <td>55.6107</td>\n",
       "      <td>55.9617</td>\n",
       "      <td>56.0740</td>\n",
       "      <td>57.0335</td>\n",
       "      <td>...</td>\n",
       "      <td>60.5269</td>\n",
       "      <td>59.9272</td>\n",
       "      <td>59.8881</td>\n",
       "      <td>59.6461</td>\n",
       "      <td>59.5435</td>\n",
       "      <td>59.4359</td>\n",
       "      <td>59.7827</td>\n",
       "      <td>59.6211</td>\n",
       "      <td>60.8438</td>\n",
       "      <td>55.882133</td>\n",
       "    </tr>\n",
       "    <tr>\n",
       "      <th>2022-09-30</th>\n",
       "      <td>51.7974</td>\n",
       "      <td>2022</td>\n",
       "      <td>9</td>\n",
       "      <td>30</td>\n",
       "      <td>4</td>\n",
       "      <td>0</td>\n",
       "      <td>55.3639</td>\n",
       "      <td>55.6107</td>\n",
       "      <td>55.9617</td>\n",
       "      <td>56.0740</td>\n",
       "      <td>...</td>\n",
       "      <td>60.1813</td>\n",
       "      <td>60.5269</td>\n",
       "      <td>59.9272</td>\n",
       "      <td>59.8881</td>\n",
       "      <td>59.6461</td>\n",
       "      <td>59.5435</td>\n",
       "      <td>59.4359</td>\n",
       "      <td>59.7827</td>\n",
       "      <td>59.6211</td>\n",
       "      <td>55.645433</td>\n",
       "    </tr>\n",
       "    <tr>\n",
       "      <th>2022-10-03</th>\n",
       "      <td>54.5446</td>\n",
       "      <td>2022</td>\n",
       "      <td>10</td>\n",
       "      <td>3</td>\n",
       "      <td>0</td>\n",
       "      <td>0</td>\n",
       "      <td>51.7974</td>\n",
       "      <td>55.3639</td>\n",
       "      <td>55.6107</td>\n",
       "      <td>55.9617</td>\n",
       "      <td>...</td>\n",
       "      <td>60.3267</td>\n",
       "      <td>60.1813</td>\n",
       "      <td>60.5269</td>\n",
       "      <td>59.9272</td>\n",
       "      <td>59.8881</td>\n",
       "      <td>59.6461</td>\n",
       "      <td>59.5435</td>\n",
       "      <td>59.4359</td>\n",
       "      <td>59.7827</td>\n",
       "      <td>54.257333</td>\n",
       "    </tr>\n",
       "    <tr>\n",
       "      <th>2022-10-04</th>\n",
       "      <td>56.2911</td>\n",
       "      <td>2022</td>\n",
       "      <td>10</td>\n",
       "      <td>4</td>\n",
       "      <td>1</td>\n",
       "      <td>0</td>\n",
       "      <td>54.5446</td>\n",
       "      <td>51.7974</td>\n",
       "      <td>55.3639</td>\n",
       "      <td>55.6107</td>\n",
       "      <td>...</td>\n",
       "      <td>60.1732</td>\n",
       "      <td>60.3267</td>\n",
       "      <td>60.1813</td>\n",
       "      <td>60.5269</td>\n",
       "      <td>59.9272</td>\n",
       "      <td>59.8881</td>\n",
       "      <td>59.6461</td>\n",
       "      <td>59.5435</td>\n",
       "      <td>59.4359</td>\n",
       "      <td>53.901967</td>\n",
       "    </tr>\n",
       "  </tbody>\n",
       "</table>\n",
       "<p>273 rows × 37 columns</p>\n",
       "</div>"
      ],
      "text/plain": [
       "                Cur  year  month  day  dayofweek  is_weekend    lag_1  \\\n",
       "Date                                                                    \n",
       "2021-09-06  86.5670  2021      9    6          0           0      NaN   \n",
       "2021-09-07  86.9602  2021      9    7          1           0  86.5670   \n",
       "2021-09-08  86.8606  2021      9    8          2           0  86.9602   \n",
       "2021-09-09  86.4067  2021      9    9          3           0  86.8606   \n",
       "2021-09-10  86.2092  2021      9   10          4           0  86.4067   \n",
       "...             ...   ...    ...  ...        ...         ...      ...   \n",
       "2022-09-28  55.6107  2022      9   28          2           0  55.9617   \n",
       "2022-09-29  55.3639  2022      9   29          3           0  55.6107   \n",
       "2022-09-30  51.7974  2022      9   30          4           0  55.3639   \n",
       "2022-10-03  54.5446  2022     10    3          0           0  51.7974   \n",
       "2022-10-04  56.2911  2022     10    4          1           0  54.5446   \n",
       "\n",
       "              lag_2    lag_3    lag_4  ...   lag_22   lag_23   lag_24  \\\n",
       "Date                                   ...                              \n",
       "2021-09-06      NaN      NaN      NaN  ...      NaN      NaN      NaN   \n",
       "2021-09-07      NaN      NaN      NaN  ...      NaN      NaN      NaN   \n",
       "2021-09-08  86.5670      NaN      NaN  ...      NaN      NaN      NaN   \n",
       "2021-09-09  86.9602  86.5670      NaN  ...      NaN      NaN      NaN   \n",
       "2021-09-10  86.8606  86.9602  86.5670  ...      NaN      NaN      NaN   \n",
       "...             ...      ...      ...  ...      ...      ...      ...   \n",
       "2022-09-28  56.0740  57.0335  59.3158  ...  59.9272  59.8881  59.6461   \n",
       "2022-09-29  55.9617  56.0740  57.0335  ...  60.5269  59.9272  59.8881   \n",
       "2022-09-30  55.6107  55.9617  56.0740  ...  60.1813  60.5269  59.9272   \n",
       "2022-10-03  55.3639  55.6107  55.9617  ...  60.3267  60.1813  60.5269   \n",
       "2022-10-04  51.7974  55.3639  55.6107  ...  60.1732  60.3267  60.1813   \n",
       "\n",
       "             lag_25   lag_26   lag_27   lag_28   lag_29   lag_30     y_mean  \n",
       "Date                                                                         \n",
       "2021-09-06      NaN      NaN      NaN      NaN      NaN      NaN        NaN  \n",
       "2021-09-07      NaN      NaN      NaN      NaN      NaN      NaN        NaN  \n",
       "2021-09-08      NaN      NaN      NaN      NaN      NaN      NaN        NaN  \n",
       "2021-09-09      NaN      NaN      NaN      NaN      NaN      NaN  86.795933  \n",
       "2021-09-10      NaN      NaN      NaN      NaN      NaN      NaN  86.742500  \n",
       "...             ...      ...      ...      ...      ...      ...        ...  \n",
       "2022-09-28  59.5435  59.4359  59.7827  59.6211  60.8438  61.9675  56.356400  \n",
       "2022-09-29  59.6461  59.5435  59.4359  59.7827  59.6211  60.8438  55.882133  \n",
       "2022-09-30  59.8881  59.6461  59.5435  59.4359  59.7827  59.6211  55.645433  \n",
       "2022-10-03  59.9272  59.8881  59.6461  59.5435  59.4359  59.7827  54.257333  \n",
       "2022-10-04  60.5269  59.9272  59.8881  59.6461  59.5435  59.4359  53.901967  \n",
       "\n",
       "[273 rows x 37 columns]"
      ]
     },
     "execution_count": 12,
     "metadata": {},
     "output_type": "execute_result"
    }
   ],
   "source": [
    "df"
   ]
  },
  {
   "cell_type": "code",
   "execution_count": 13,
   "metadata": {},
   "outputs": [],
   "source": [
    "df.dropna(inplace=True)"
   ]
  },
  {
   "cell_type": "code",
   "execution_count": 14,
   "metadata": {},
   "outputs": [],
   "source": [
    "X_train,X_test,y_train,y_test = train_test_split(df.drop('Cur', axis=1),\n",
    "                                                df.Cur,\n",
    "                                                shuffle = False,\n",
    "                                                test_size=0.19)"
   ]
  },
  {
   "cell_type": "code",
   "execution_count": 15,
   "metadata": {},
   "outputs": [],
   "source": [
    "lr = LinearRegression()"
   ]
  },
  {
   "cell_type": "code",
   "execution_count": 16,
   "metadata": {},
   "outputs": [
    {
     "data": {
      "text/plain": [
       "LinearRegression()"
      ]
     },
     "execution_count": 16,
     "metadata": {},
     "output_type": "execute_result"
    }
   ],
   "source": [
    "lr.fit(X_train,y_train)"
   ]
  },
  {
   "cell_type": "code",
   "execution_count": 17,
   "metadata": {},
   "outputs": [
    {
     "name": "stdout",
     "output_type": "stream",
     "text": [
      "Ошибка на Train  1.38\n"
     ]
    }
   ],
   "source": [
    "print('Ошибка на Train ', round(mean_absolute_error(y_train, lr.predict(X_train)),2))"
   ]
  },
  {
   "cell_type": "code",
   "execution_count": 18,
   "metadata": {},
   "outputs": [
    {
     "name": "stdout",
     "output_type": "stream",
     "text": [
      "Ошибка на Test  0.77\n"
     ]
    }
   ],
   "source": [
    "print('Ошибка на Test ', round(mean_absolute_error(y_test, lr.predict(X_test)),2))"
   ]
  },
  {
   "cell_type": "markdown",
   "metadata": {},
   "source": [
    "# Предсказываем на 05.10"
   ]
  },
  {
   "cell_type": "code",
   "execution_count": 19,
   "metadata": {},
   "outputs": [],
   "source": [
    "df_new = df['Cur'].copy()\n",
    "df_new = pd.DataFrame(df_new).reset_index()"
   ]
  },
  {
   "cell_type": "code",
   "execution_count": 20,
   "metadata": {},
   "outputs": [],
   "source": [
    "df_concat = df_new.tail(1).copy()"
   ]
  },
  {
   "cell_type": "code",
   "execution_count": 21,
   "metadata": {},
   "outputs": [],
   "source": [
    "df_concat['Date'] = pd.to_datetime('2022-10-05')"
   ]
  },
  {
   "cell_type": "code",
   "execution_count": 22,
   "metadata": {},
   "outputs": [],
   "source": [
    "df_concat['Cur'] = 0"
   ]
  },
  {
   "cell_type": "code",
   "execution_count": 23,
   "metadata": {},
   "outputs": [
    {
     "data": {
      "text/html": [
       "<div>\n",
       "<style scoped>\n",
       "    .dataframe tbody tr th:only-of-type {\n",
       "        vertical-align: middle;\n",
       "    }\n",
       "\n",
       "    .dataframe tbody tr th {\n",
       "        vertical-align: top;\n",
       "    }\n",
       "\n",
       "    .dataframe thead th {\n",
       "        text-align: right;\n",
       "    }\n",
       "</style>\n",
       "<table border=\"1\" class=\"dataframe\">\n",
       "  <thead>\n",
       "    <tr style=\"text-align: right;\">\n",
       "      <th></th>\n",
       "      <th>Date</th>\n",
       "      <th>Cur</th>\n",
       "    </tr>\n",
       "  </thead>\n",
       "  <tbody>\n",
       "    <tr>\n",
       "      <th>242</th>\n",
       "      <td>2022-10-05</td>\n",
       "      <td>0</td>\n",
       "    </tr>\n",
       "  </tbody>\n",
       "</table>\n",
       "</div>"
      ],
      "text/plain": [
       "          Date  Cur\n",
       "242 2022-10-05    0"
      ]
     },
     "execution_count": 23,
     "metadata": {},
     "output_type": "execute_result"
    }
   ],
   "source": [
    "df_concat"
   ]
  },
  {
   "cell_type": "code",
   "execution_count": 24,
   "metadata": {},
   "outputs": [],
   "source": [
    "df_v2 = pd.concat([df_new,df_concat],ignore_index=True)"
   ]
  },
  {
   "cell_type": "code",
   "execution_count": 25,
   "metadata": {},
   "outputs": [
    {
     "data": {
      "text/html": [
       "<div>\n",
       "<style scoped>\n",
       "    .dataframe tbody tr th:only-of-type {\n",
       "        vertical-align: middle;\n",
       "    }\n",
       "\n",
       "    .dataframe tbody tr th {\n",
       "        vertical-align: top;\n",
       "    }\n",
       "\n",
       "    .dataframe thead th {\n",
       "        text-align: right;\n",
       "    }\n",
       "</style>\n",
       "<table border=\"1\" class=\"dataframe\">\n",
       "  <thead>\n",
       "    <tr style=\"text-align: right;\">\n",
       "      <th></th>\n",
       "      <th>Date</th>\n",
       "      <th>Cur</th>\n",
       "    </tr>\n",
       "  </thead>\n",
       "  <tbody>\n",
       "    <tr>\n",
       "      <th>0</th>\n",
       "      <td>2021-10-18</td>\n",
       "      <td>82.5112</td>\n",
       "    </tr>\n",
       "    <tr>\n",
       "      <th>1</th>\n",
       "      <td>2021-10-19</td>\n",
       "      <td>82.6711</td>\n",
       "    </tr>\n",
       "    <tr>\n",
       "      <th>2</th>\n",
       "      <td>2021-10-20</td>\n",
       "      <td>82.5373</td>\n",
       "    </tr>\n",
       "    <tr>\n",
       "      <th>3</th>\n",
       "      <td>2021-10-21</td>\n",
       "      <td>82.6744</td>\n",
       "    </tr>\n",
       "    <tr>\n",
       "      <th>4</th>\n",
       "      <td>2021-10-22</td>\n",
       "      <td>82.1310</td>\n",
       "    </tr>\n",
       "    <tr>\n",
       "      <th>...</th>\n",
       "      <td>...</td>\n",
       "      <td>...</td>\n",
       "    </tr>\n",
       "    <tr>\n",
       "      <th>239</th>\n",
       "      <td>2022-09-29</td>\n",
       "      <td>55.3639</td>\n",
       "    </tr>\n",
       "    <tr>\n",
       "      <th>240</th>\n",
       "      <td>2022-09-30</td>\n",
       "      <td>51.7974</td>\n",
       "    </tr>\n",
       "    <tr>\n",
       "      <th>241</th>\n",
       "      <td>2022-10-03</td>\n",
       "      <td>54.5446</td>\n",
       "    </tr>\n",
       "    <tr>\n",
       "      <th>242</th>\n",
       "      <td>2022-10-04</td>\n",
       "      <td>56.2911</td>\n",
       "    </tr>\n",
       "    <tr>\n",
       "      <th>243</th>\n",
       "      <td>2022-10-05</td>\n",
       "      <td>0.0000</td>\n",
       "    </tr>\n",
       "  </tbody>\n",
       "</table>\n",
       "<p>244 rows × 2 columns</p>\n",
       "</div>"
      ],
      "text/plain": [
       "          Date      Cur\n",
       "0   2021-10-18  82.5112\n",
       "1   2021-10-19  82.6711\n",
       "2   2021-10-20  82.5373\n",
       "3   2021-10-21  82.6744\n",
       "4   2021-10-22  82.1310\n",
       "..         ...      ...\n",
       "239 2022-09-29  55.3639\n",
       "240 2022-09-30  51.7974\n",
       "241 2022-10-03  54.5446\n",
       "242 2022-10-04  56.2911\n",
       "243 2022-10-05   0.0000\n",
       "\n",
       "[244 rows x 2 columns]"
      ]
     },
     "execution_count": 25,
     "metadata": {},
     "output_type": "execute_result"
    }
   ],
   "source": [
    "df_v2"
   ]
  },
  {
   "cell_type": "markdown",
   "metadata": {},
   "source": [
    "# Генерируем фичи для 05.10"
   ]
  },
  {
   "cell_type": "code",
   "execution_count": 26,
   "metadata": {},
   "outputs": [],
   "source": [
    "df_v2.set_index('Date', inplace=True)"
   ]
  },
  {
   "cell_type": "code",
   "execution_count": 27,
   "metadata": {},
   "outputs": [],
   "source": [
    "make_features(df_v2,30,3)"
   ]
  },
  {
   "cell_type": "code",
   "execution_count": 28,
   "metadata": {},
   "outputs": [
    {
     "data": {
      "text/html": [
       "<div>\n",
       "<style scoped>\n",
       "    .dataframe tbody tr th:only-of-type {\n",
       "        vertical-align: middle;\n",
       "    }\n",
       "\n",
       "    .dataframe tbody tr th {\n",
       "        vertical-align: top;\n",
       "    }\n",
       "\n",
       "    .dataframe thead th {\n",
       "        text-align: right;\n",
       "    }\n",
       "</style>\n",
       "<table border=\"1\" class=\"dataframe\">\n",
       "  <thead>\n",
       "    <tr style=\"text-align: right;\">\n",
       "      <th></th>\n",
       "      <th>year</th>\n",
       "      <th>month</th>\n",
       "      <th>day</th>\n",
       "      <th>dayofweek</th>\n",
       "      <th>is_weekend</th>\n",
       "      <th>lag_1</th>\n",
       "      <th>lag_2</th>\n",
       "      <th>lag_3</th>\n",
       "      <th>lag_4</th>\n",
       "      <th>lag_5</th>\n",
       "      <th>...</th>\n",
       "      <th>lag_22</th>\n",
       "      <th>lag_23</th>\n",
       "      <th>lag_24</th>\n",
       "      <th>lag_25</th>\n",
       "      <th>lag_26</th>\n",
       "      <th>lag_27</th>\n",
       "      <th>lag_28</th>\n",
       "      <th>lag_29</th>\n",
       "      <th>lag_30</th>\n",
       "      <th>y_mean</th>\n",
       "    </tr>\n",
       "    <tr>\n",
       "      <th>Date</th>\n",
       "      <th></th>\n",
       "      <th></th>\n",
       "      <th></th>\n",
       "      <th></th>\n",
       "      <th></th>\n",
       "      <th></th>\n",
       "      <th></th>\n",
       "      <th></th>\n",
       "      <th></th>\n",
       "      <th></th>\n",
       "      <th></th>\n",
       "      <th></th>\n",
       "      <th></th>\n",
       "      <th></th>\n",
       "      <th></th>\n",
       "      <th></th>\n",
       "      <th></th>\n",
       "      <th></th>\n",
       "      <th></th>\n",
       "      <th></th>\n",
       "      <th></th>\n",
       "    </tr>\n",
       "  </thead>\n",
       "  <tbody>\n",
       "    <tr>\n",
       "      <th>2022-10-05</th>\n",
       "      <td>2022</td>\n",
       "      <td>10</td>\n",
       "      <td>5</td>\n",
       "      <td>2</td>\n",
       "      <td>0</td>\n",
       "      <td>56.2911</td>\n",
       "      <td>54.5446</td>\n",
       "      <td>51.7974</td>\n",
       "      <td>55.3639</td>\n",
       "      <td>55.6107</td>\n",
       "      <td>...</td>\n",
       "      <td>60.5658</td>\n",
       "      <td>60.1732</td>\n",
       "      <td>60.3267</td>\n",
       "      <td>60.1813</td>\n",
       "      <td>60.5269</td>\n",
       "      <td>59.9272</td>\n",
       "      <td>59.8881</td>\n",
       "      <td>59.6461</td>\n",
       "      <td>59.5435</td>\n",
       "      <td>54.211033</td>\n",
       "    </tr>\n",
       "  </tbody>\n",
       "</table>\n",
       "<p>1 rows × 36 columns</p>\n",
       "</div>"
      ],
      "text/plain": [
       "            year  month  day  dayofweek  is_weekend    lag_1    lag_2  \\\n",
       "Date                                                                    \n",
       "2022-10-05  2022     10    5          2           0  56.2911  54.5446   \n",
       "\n",
       "              lag_3    lag_4    lag_5  ...   lag_22   lag_23   lag_24  \\\n",
       "Date                                   ...                              \n",
       "2022-10-05  51.7974  55.3639  55.6107  ...  60.5658  60.1732  60.3267   \n",
       "\n",
       "             lag_25   lag_26   lag_27   lag_28   lag_29   lag_30     y_mean  \n",
       "Date                                                                         \n",
       "2022-10-05  60.1813  60.5269  59.9272  59.8881  59.6461  59.5435  54.211033  \n",
       "\n",
       "[1 rows x 36 columns]"
      ]
     },
     "execution_count": 28,
     "metadata": {},
     "output_type": "execute_result"
    }
   ],
   "source": [
    "df_v2.drop('Cur',axis=1).tail(1)"
   ]
  },
  {
   "cell_type": "code",
   "execution_count": 29,
   "metadata": {},
   "outputs": [
    {
     "name": "stdout",
     "output_type": "stream",
     "text": [
      "Предсказание Euro на 05.10.2022 -  55.716575829081194\n"
     ]
    }
   ],
   "source": [
    "print('Предсказание Euro на 05.10.2022 - ',lr.predict(df_v2.drop('Cur',axis=1).tail(1))[0])"
   ]
  }
 ],
 "metadata": {
  "kernelspec": {
   "display_name": "Python 3",
   "language": "python",
   "name": "python3"
  },
  "language_info": {
   "codemirror_mode": {
    "name": "ipython",
    "version": 3
   },
   "file_extension": ".py",
   "mimetype": "text/x-python",
   "name": "python",
   "nbconvert_exporter": "python",
   "pygments_lexer": "ipython3",
   "version": "3.8.3"
  }
 },
 "nbformat": 4,
 "nbformat_minor": 4
}
