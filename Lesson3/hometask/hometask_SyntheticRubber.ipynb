{
  "cells": [
    {
      "cell_type": "markdown",
      "source": [
        "[![Open In Colab](https://colab.research.google.com/assets/colab-badge.svg)](https://colab.research.google.com/github/da-python/python-for-data-analytics/blob/main/Lesson3/hometask/hometask_SyntheticRubber.ipynb)"
      ],
      "metadata": {
        "collapsed": false,
        "pycharm": {
          "name": "#%% md\n"
        },
        "id": "PegTdaQFvTqS"
      }
    },
    {
      "cell_type": "code",
      "execution_count": 1,
      "outputs": [
        {
          "output_type": "stream",
          "name": "stdout",
          "text": [
            "Looking in indexes: https://pypi.org/simple, https://us-python.pkg.dev/colab-wheels/public/simple/\n",
            "Requirement already satisfied: yfinance in /usr/local/lib/python3.7/dist-packages (0.1.74)\n",
            "Requirement already satisfied: requests in /usr/local/lib/python3.7/dist-packages (2.28.1)\n",
            "Requirement already satisfied: multitasking>=0.0.7 in /usr/local/lib/python3.7/dist-packages (from yfinance) (0.0.11)\n",
            "Requirement already satisfied: pandas>=0.24.0 in /usr/local/lib/python3.7/dist-packages (from yfinance) (1.3.5)\n",
            "Requirement already satisfied: numpy>=1.15 in /usr/local/lib/python3.7/dist-packages (from yfinance) (1.21.6)\n",
            "Requirement already satisfied: lxml>=4.5.1 in /usr/local/lib/python3.7/dist-packages (from yfinance) (4.9.1)\n",
            "Requirement already satisfied: certifi>=2017.4.17 in /usr/local/lib/python3.7/dist-packages (from requests) (2022.6.15)\n",
            "Requirement already satisfied: urllib3<1.27,>=1.21.1 in /usr/local/lib/python3.7/dist-packages (from requests) (1.24.3)\n",
            "Requirement already satisfied: idna<4,>=2.5 in /usr/local/lib/python3.7/dist-packages (from requests) (2.10)\n",
            "Requirement already satisfied: charset-normalizer<3,>=2 in /usr/local/lib/python3.7/dist-packages (from requests) (2.1.0)\n",
            "Requirement already satisfied: pytz>=2017.3 in /usr/local/lib/python3.7/dist-packages (from pandas>=0.24.0->yfinance) (2022.1)\n",
            "Requirement already satisfied: python-dateutil>=2.7.3 in /usr/local/lib/python3.7/dist-packages (from pandas>=0.24.0->yfinance) (2.8.2)\n",
            "Requirement already satisfied: six>=1.5 in /usr/local/lib/python3.7/dist-packages (from python-dateutil>=2.7.3->pandas>=0.24.0->yfinance) (1.15.0)\n"
          ]
        }
      ],
      "source": [
        "##### При работе в Colab\n",
        "!pip install yfinance requests"
      ],
      "metadata": {
        "pycharm": {
          "name": "#%%\n"
        },
        "id": "Y9rX-yNzvTqa",
        "outputId": "94c87ed2-8798-4156-8bbc-a2ee14eb10cd",
        "colab": {
          "base_uri": "https://localhost:8080/"
        }
      }
    },
    {
      "cell_type": "code",
      "execution_count": 2,
      "outputs": [],
      "source": [
        "import requests\n",
        "import yfinance as yf\n",
        "import pandas as pd\n",
        "import matplotlib.pyplot as plt\n",
        "import seaborn; seaborn.set()"
      ],
      "metadata": {
        "pycharm": {
          "name": "#%%\n"
        },
        "id": "gH39DXTHvTqc"
      }
    },
    {
      "cell_type": "code",
      "execution_count": null,
      "outputs": [],
      "source": [
        "# Для работы с API может потребоваться обходное решение для работы с SSL сертификатом\n",
        "# import ssl\n",
        "# ssl._create_default_https_context = ssl._create_unverified_context"
      ],
      "metadata": {
        "pycharm": {
          "name": "#%%\n"
        },
        "id": "44qeZekgvTqe"
      }
    },
    {
      "cell_type": "markdown",
      "metadata": {
        "pycharm": {
          "name": "#%% md\n"
        },
        "id": "lgKGvzPwvTqf"
      },
      "source": [
        "# Задание 1.\n",
        "\n",
        "* Вы - менеджер по продажам в нефтехимической компании.\n",
        "* Вы ведете несколько ключевых клиентов, которые закупают продукты вашей компании.\n",
        "* Ваши клиенты предпочитают формульный подход к ценообразованию и вам нужно предложить клиентам формулу цены на синтетический каучук, который может быть альтернативой натуральному каучуку с грейдом SMR 20.\n",
        "* В зависимости от объемов, которые покупают клиенты, им может быть предложена скидка.\n"
      ]
    },
    {
      "cell_type": "markdown",
      "source": [
        "### Что нужно сделать?\n",
        "\n",
        "1. Проанализировать имеющиеся данные.\n",
        "2. Определить базовую формулу цены на условиях FCA (цена на заводе). То есть как бы выглядела цена на исторических данных.\n",
        "3. Отобразить на графике.\n",
        "4. Сделать расчет возможной цены по формуле для каждого из клиентов на условиях DDP (цена с доставкой). Записать все в один эксель файл, на разных листах. Каждый лист - название клиента.\n",
        "5. Предложить формулу цены каждому из клиентов на условиях DDP (цена с доставкой).\n",
        "- Создать директорию «для клиентов» и в ней сложить файлы с расчетами.\n",
        "- Каждый клиент - отдельный файл (любой из docx, xlsx, pptx, pdf)  с именем клиента…"
      ],
      "metadata": {
        "collapsed": false,
        "pycharm": {
          "name": "#%% md\n"
        },
        "id": "-wl7PCYNvTqg"
      }
    },
    {
      "cell_type": "code",
      "execution_count": 3,
      "outputs": [],
      "source": [
        "# Из данных есть:\n",
        "# Затраты на производство\n",
        "PRODUCTION_COST = 400 # (EUR)\n",
        "\n",
        "# Расходы на логистику\n",
        "EU_LOGISTIC_COST_EUR = 30 # в Европу в евро\n",
        "CN_LOGISTIC_COST_USD = 130 # в Китай в долларах\n",
        "\n",
        "# * Справочная информация по клиентам(объемы, локации, комментарии)\n",
        "# location - локация клиента\n",
        "# volumes - закупаемые объемы\n",
        "# formula - предпочитаемая формула расчета цены - скользящая средняя или среднее значение за месяц\n",
        "\n",
        "customers = {\n",
        "    'Monty':{\n",
        "        'location':'EU',\n",
        "        'volumes':200,\n",
        "        'formula':'moving_average'\n",
        "    },\n",
        "\n",
        "    'Triangle':{\n",
        "        'location':'CN',\n",
        "        'volumes': 30,\n",
        "        'formula': 'monthly'\n",
        "    },\n",
        "    'Stone':{\n",
        "        'location':'EU',\n",
        "        'volumes': 150,\n",
        "        'formula': 'moving_average'\n",
        "    },\n",
        "    'Poly':{\n",
        "        'location':'EU',\n",
        "        'volumes': 70,\n",
        "        'formula': 'monthly'\n",
        "    }\n",
        "}\n",
        "# Скидки\n",
        "discounts = {'up to 100': 0.01, # 1%\n",
        "             'up to 300': 0.05, # 5%\n",
        "             '300 plus': 0.1}   #10%\n"
      ],
      "metadata": {
        "pycharm": {
          "name": "#%%\n"
        },
        "id": "wQ8tbY0mvTqh"
      }
    },
    {
      "cell_type": "code",
      "execution_count": 9,
      "outputs": [],
      "source": [
        "# Котировки натурального каучука доступны на сайте,  https://www.lgm.gov.my\n",
        "# также у них есть API, пример запроса ниже\n",
        "#\n",
        "all_dfs=[]\n",
        "for y in ['2019', '2020', '2021']:\n",
        "  for m in ['01', '02']:\n",
        "#year = '2022'\n",
        "#month = '05'\n",
        "    url = f\"https://www.lgm.gov.my/webv2api/api/rubberprice/month={m}&year={y}\"\n",
        "    res = requests.get(url)\n",
        "    rj = res.json()\n",
        "    temp_df = pd.json_normalize(rj)\n",
        "    all_dfs.append(temp_df)"
      ],
      "metadata": {
        "pycharm": {
          "name": "#%%\n"
        },
        "id": "0uqyHt4JvTqj"
      }
    },
    {
      "cell_type": "code",
      "source": [
        "df = pd.concat(all_dfs)"
      ],
      "metadata": {
        "id": "8NvFECO5xg1o"
      },
      "execution_count": 12,
      "outputs": []
    },
    {
      "cell_type": "code",
      "source": [
        "df.head()"
      ],
      "metadata": {
        "id": "Mgyx6coL03Me",
        "outputId": "1642b128-98ab-49ea-e20c-79e217dcb24b",
        "colab": {
          "base_uri": "https://localhost:8080/",
          "height": 206
        }
      },
      "execution_count": 18,
      "outputs": [
        {
          "output_type": "execute_result",
          "data": {
            "text/plain": [
              "         date   grade  masa      rm      us   tone\n",
              "0  2019-01-31  SMR CV  Noon  770.00  191.30  Quiet\n",
              "1  2019-01-31   SMR L  Noon  750.00  186.35  Quiet\n",
              "2  2019-01-31   SMR 5  Noon  549.50  136.50  Quiet\n",
              "3  2019-01-31  SMR GP  Noon  546.50  135.80  Quiet\n",
              "4  2019-01-31  SMR 10  Noon  539.50  134.05  Quiet"
            ],
            "text/html": [
              "\n",
              "  <div id=\"df-6d156450-e190-4cab-a9a0-b6ab16a8c7ed\">\n",
              "    <div class=\"colab-df-container\">\n",
              "      <div>\n",
              "<style scoped>\n",
              "    .dataframe tbody tr th:only-of-type {\n",
              "        vertical-align: middle;\n",
              "    }\n",
              "\n",
              "    .dataframe tbody tr th {\n",
              "        vertical-align: top;\n",
              "    }\n",
              "\n",
              "    .dataframe thead th {\n",
              "        text-align: right;\n",
              "    }\n",
              "</style>\n",
              "<table border=\"1\" class=\"dataframe\">\n",
              "  <thead>\n",
              "    <tr style=\"text-align: right;\">\n",
              "      <th></th>\n",
              "      <th>date</th>\n",
              "      <th>grade</th>\n",
              "      <th>masa</th>\n",
              "      <th>rm</th>\n",
              "      <th>us</th>\n",
              "      <th>tone</th>\n",
              "    </tr>\n",
              "  </thead>\n",
              "  <tbody>\n",
              "    <tr>\n",
              "      <th>0</th>\n",
              "      <td>2019-01-31</td>\n",
              "      <td>SMR CV</td>\n",
              "      <td>Noon</td>\n",
              "      <td>770.00</td>\n",
              "      <td>191.30</td>\n",
              "      <td>Quiet</td>\n",
              "    </tr>\n",
              "    <tr>\n",
              "      <th>1</th>\n",
              "      <td>2019-01-31</td>\n",
              "      <td>SMR L</td>\n",
              "      <td>Noon</td>\n",
              "      <td>750.00</td>\n",
              "      <td>186.35</td>\n",
              "      <td>Quiet</td>\n",
              "    </tr>\n",
              "    <tr>\n",
              "      <th>2</th>\n",
              "      <td>2019-01-31</td>\n",
              "      <td>SMR 5</td>\n",
              "      <td>Noon</td>\n",
              "      <td>549.50</td>\n",
              "      <td>136.50</td>\n",
              "      <td>Quiet</td>\n",
              "    </tr>\n",
              "    <tr>\n",
              "      <th>3</th>\n",
              "      <td>2019-01-31</td>\n",
              "      <td>SMR GP</td>\n",
              "      <td>Noon</td>\n",
              "      <td>546.50</td>\n",
              "      <td>135.80</td>\n",
              "      <td>Quiet</td>\n",
              "    </tr>\n",
              "    <tr>\n",
              "      <th>4</th>\n",
              "      <td>2019-01-31</td>\n",
              "      <td>SMR 10</td>\n",
              "      <td>Noon</td>\n",
              "      <td>539.50</td>\n",
              "      <td>134.05</td>\n",
              "      <td>Quiet</td>\n",
              "    </tr>\n",
              "  </tbody>\n",
              "</table>\n",
              "</div>\n",
              "      <button class=\"colab-df-convert\" onclick=\"convertToInteractive('df-6d156450-e190-4cab-a9a0-b6ab16a8c7ed')\"\n",
              "              title=\"Convert this dataframe to an interactive table.\"\n",
              "              style=\"display:none;\">\n",
              "        \n",
              "  <svg xmlns=\"http://www.w3.org/2000/svg\" height=\"24px\"viewBox=\"0 0 24 24\"\n",
              "       width=\"24px\">\n",
              "    <path d=\"M0 0h24v24H0V0z\" fill=\"none\"/>\n",
              "    <path d=\"M18.56 5.44l.94 2.06.94-2.06 2.06-.94-2.06-.94-.94-2.06-.94 2.06-2.06.94zm-11 1L8.5 8.5l.94-2.06 2.06-.94-2.06-.94L8.5 2.5l-.94 2.06-2.06.94zm10 10l.94 2.06.94-2.06 2.06-.94-2.06-.94-.94-2.06-.94 2.06-2.06.94z\"/><path d=\"M17.41 7.96l-1.37-1.37c-.4-.4-.92-.59-1.43-.59-.52 0-1.04.2-1.43.59L10.3 9.45l-7.72 7.72c-.78.78-.78 2.05 0 2.83L4 21.41c.39.39.9.59 1.41.59.51 0 1.02-.2 1.41-.59l7.78-7.78 2.81-2.81c.8-.78.8-2.07 0-2.86zM5.41 20L4 18.59l7.72-7.72 1.47 1.35L5.41 20z\"/>\n",
              "  </svg>\n",
              "      </button>\n",
              "      \n",
              "  <style>\n",
              "    .colab-df-container {\n",
              "      display:flex;\n",
              "      flex-wrap:wrap;\n",
              "      gap: 12px;\n",
              "    }\n",
              "\n",
              "    .colab-df-convert {\n",
              "      background-color: #E8F0FE;\n",
              "      border: none;\n",
              "      border-radius: 50%;\n",
              "      cursor: pointer;\n",
              "      display: none;\n",
              "      fill: #1967D2;\n",
              "      height: 32px;\n",
              "      padding: 0 0 0 0;\n",
              "      width: 32px;\n",
              "    }\n",
              "\n",
              "    .colab-df-convert:hover {\n",
              "      background-color: #E2EBFA;\n",
              "      box-shadow: 0px 1px 2px rgba(60, 64, 67, 0.3), 0px 1px 3px 1px rgba(60, 64, 67, 0.15);\n",
              "      fill: #174EA6;\n",
              "    }\n",
              "\n",
              "    [theme=dark] .colab-df-convert {\n",
              "      background-color: #3B4455;\n",
              "      fill: #D2E3FC;\n",
              "    }\n",
              "\n",
              "    [theme=dark] .colab-df-convert:hover {\n",
              "      background-color: #434B5C;\n",
              "      box-shadow: 0px 1px 3px 1px rgba(0, 0, 0, 0.15);\n",
              "      filter: drop-shadow(0px 1px 2px rgba(0, 0, 0, 0.3));\n",
              "      fill: #FFFFFF;\n",
              "    }\n",
              "  </style>\n",
              "\n",
              "      <script>\n",
              "        const buttonEl =\n",
              "          document.querySelector('#df-6d156450-e190-4cab-a9a0-b6ab16a8c7ed button.colab-df-convert');\n",
              "        buttonEl.style.display =\n",
              "          google.colab.kernel.accessAllowed ? 'block' : 'none';\n",
              "\n",
              "        async function convertToInteractive(key) {\n",
              "          const element = document.querySelector('#df-6d156450-e190-4cab-a9a0-b6ab16a8c7ed');\n",
              "          const dataTable =\n",
              "            await google.colab.kernel.invokeFunction('convertToInteractive',\n",
              "                                                     [key], {});\n",
              "          if (!dataTable) return;\n",
              "\n",
              "          const docLinkHtml = 'Like what you see? Visit the ' +\n",
              "            '<a target=\"_blank\" href=https://colab.research.google.com/notebooks/data_table.ipynb>data table notebook</a>'\n",
              "            + ' to learn more about interactive tables.';\n",
              "          element.innerHTML = '';\n",
              "          dataTable['output_type'] = 'display_data';\n",
              "          await google.colab.output.renderOutput(dataTable, element);\n",
              "          const docLink = document.createElement('div');\n",
              "          docLink.innerHTML = docLinkHtml;\n",
              "          element.appendChild(docLink);\n",
              "        }\n",
              "      </script>\n",
              "    </div>\n",
              "  </div>\n",
              "  "
            ]
          },
          "metadata": {},
          "execution_count": 18
        }
      ]
    },
    {
      "cell_type": "markdown",
      "metadata": {
        "pycharm": {
          "name": "#%% md\n"
        },
        "id": "9CRB5xyovTqm"
      },
      "source": [
        "# Задание 2. Продолжение"
      ]
    },
    {
      "cell_type": "markdown",
      "metadata": {
        "pycharm": {
          "name": "#%% md\n"
        },
        "id": "Z1flJhmYvTqn"
      },
      "source": [
        "Клиенты согласились на ваше предложение.\n",
        "### Что нужно сделать?\n",
        "Вам нужно написать скрипт, с помощью которого можно автоматом рассчитывать цены для всех клиентов одновременно.\n",
        "\n",
        "\n",
        "\n",
        "* В результате должен быть скрипт, который делает расчет цены для клиента (чтобы данные подтягивались туда сами)"
      ]
    },
    {
      "cell_type": "code",
      "execution_count": null,
      "outputs": [],
      "source": [
        ""
      ],
      "metadata": {
        "pycharm": {
          "name": "#%%\n"
        },
        "id": "qubss3rhvTqo"
      }
    },
    {
      "cell_type": "markdown",
      "metadata": {
        "pycharm": {
          "name": "#%% md\n"
        },
        "id": "q5ayC9p0vTqo"
      },
      "source": [
        "# Задание 3. Поделись с ближним"
      ]
    },
    {
      "cell_type": "markdown",
      "metadata": {
        "pycharm": {
          "name": "#%% md\n"
        },
        "id": "Wt1hFUO5vTqp"
      },
      "source": [
        "Вы решили пойти в отпуск на время вашего отсутствия вас будет заменять коллега. Он будет заниматься рассчетом цен для клиентов. Чтобы ему было проще вам нужно завернуть ваши скрипты в модуль, который будет запускать у себя коллега."
      ]
    },
    {
      "cell_type": "markdown",
      "metadata": {
        "pycharm": {
          "name": "#%% md\n"
        },
        "id": "tFm-qbbjvTqp"
      },
      "source": [
        "### Что нужно сделать?\n",
        "* Создайте модуль, который можно запускать в ноутбуке подкладывая в ту же директорию\n",
        "* Хорошенько задокументируйте ВСЁ\n",
        "* Помните о PEP8"
      ]
    },
    {
      "cell_type": "code",
      "execution_count": null,
      "metadata": {
        "pycharm": {
          "name": "#%%\n"
        },
        "id": "AMgrfTPPvTqq"
      },
      "outputs": [],
      "source": [
        "# import yourpackage"
      ]
    },
    {
      "cell_type": "markdown",
      "metadata": {
        "pycharm": {
          "name": "#%% md\n"
        },
        "id": "IBQDFthrvTqq"
      },
      "source": [
        "# Задание 4. Поделись пакетом"
      ]
    },
    {
      "cell_type": "markdown",
      "metadata": {
        "pycharm": {
          "name": "#%% md\n"
        },
        "id": "DoiBLMW_vTqr"
      },
      "source": [
        "Ваши коллеги узнали, что вы быстро рассчитываете цены для формульных контрактов, и решили использовать такую же практику для своих продуктов и клиентов. Вам нужно создать пакет, чтобы его было проще устанавливать и использовать."
      ]
    },
    {
      "cell_type": "markdown",
      "metadata": {
        "pycharm": {
          "name": "#%% md\n"
        },
        "id": "4UT0zQnQvTqr"
      },
      "source": [
        "### Что нужно сделать?\n",
        "* Создайте отдельный пакет, который можно устанавливать с помощью pip\n",
        "* В пакете должны быть реализованы функции для рассчета цен по формульным контрактам\n",
        "* Выложите пакет в свой репозиторий"
      ]
    },
    {
      "cell_type": "code",
      "execution_count": null,
      "metadata": {
        "pycharm": {
          "name": "#%%\n"
        },
        "id": "F78uvB6rvTqs"
      },
      "outputs": [],
      "source": [
        "# !pip install yourpackage\n",
        "# import yourpackage"
      ]
    }
  ],
  "metadata": {
    "kernelspec": {
      "display_name": "Python 3",
      "language": "python",
      "name": "python3"
    },
    "language_info": {
      "codemirror_mode": {
        "name": "ipython",
        "version": 3
      },
      "file_extension": ".py",
      "mimetype": "text/x-python",
      "name": "python",
      "nbconvert_exporter": "python",
      "pygments_lexer": "ipython3",
      "version": "3.8.5"
    },
    "colab": {
      "name": "hometask_SyntheticRubber.ipynb",
      "provenance": []
    }
  },
  "nbformat": 4,
  "nbformat_minor": 0
}