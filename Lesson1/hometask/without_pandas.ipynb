{
  "cells": [
    {
      "cell_type": "markdown",
      "metadata": {
        "id": "view-in-github",
        "colab_type": "text"
      },
      "source": [
        "<a href=\"https://colab.research.google.com/github/OlegMukminov/desktop-tutorial/blob/main/Lesson1/hometask/without_pandas.ipynb\" target=\"_parent\"><img src=\"https://colab.research.google.com/assets/colab-badge.svg\" alt=\"Open In Colab\"/></a>"
      ]
    },
    {
      "cell_type": "markdown",
      "source": [
        "[![Open In Colab](https://colab.research.google.com/assets/colab-badge.svg)](https://colab.research.google.com/github/da-python/python-for-data-analytics/blob/main/Lesson1/hometask/without_pandas.ipynb)"
      ],
      "metadata": {
        "collapsed": false,
        "pycharm": {
          "name": "#%% md\n"
        },
        "id": "GEhKCOyfo4p3"
      }
    },
    {
      "cell_type": "code",
      "execution_count": null,
      "outputs": [
        {
          "data": {
            "image/jpeg": "[encoded data removed]",
            "text/html": [
              "\n",
              "        <iframe\n",
              "            width=\"800\"\n",
              "            height=\"300\"\n",
              "            src=\"https://www.youtube.com/embed/lyDLAutA88s\"\n",
              "            frameborder=\"0\"\n",
              "            allowfullscreen\n",
              "        ></iframe>\n",
              "        "
            ],
            "text/plain": [
              "<IPython.lib.display.YouTubeVideo at 0x10495abb0>"
            ]
          },
          "execution_count": 2,
          "metadata": {},
          "output_type": "execute_result"
        }
      ],
      "source": [
        "from IPython.display import YouTubeVideo\n",
        "YouTubeVideo('lyDLAutA88s', width=800, height=300)"
      ],
      "metadata": {
        "pycharm": {
          "name": "#%%\n"
        },
        "id": "jocglRMxo4p_",
        "outputId": "f1c84685-be90-4b6b-d33e-575c610adbeb"
      }
    },
    {
      "cell_type": "code",
      "execution_count": null,
      "metadata": {
        "pycharm": {
          "name": "#%%\n"
        },
        "id": "XLTd9pNwo4qD"
      },
      "outputs": [],
      "source": [
        "# + 1. Посмотрите видео Дэвида Бизли про встроенные инструменты Python\n",
        "# + 2. Попробуйте используя встроенные инструменты Python проанализировать таблицу из файла \"Vacancy.csv\"\n",
        "# 3. Попробуйте ответить на вопросы:\n",
        "# +Сколько вакансий, которые вам нравятся?\n",
        "# +За какие периоды эти вакансии?\n",
        "# +Сколько вакансий с такими позициями, на которых вы работаете?\n",
        "# +Сколько вакансий для аналитика данных?\n",
        "# +Сколько вакансий для аналитика данных с использованием Python?\n",
        "\n",
        "# В задании важно не использовать pandas и numpy, а встроенные инструменты python\n",
        "# Counter, CSV, defaultdict, sorted"
      ]
    },
    {
      "cell_type": "code",
      "execution_count": null,
      "outputs": [
        {
          "output_type": "stream",
          "name": "stdout",
          "text": [
            "Looking in indexes: https://pypi.org/simple, https://us-python.pkg.dev/colab-wheels/public/simple/\n",
            "Collecting wget\n",
            "  Downloading wget-3.2.zip (10 kB)\n",
            "Building wheels for collected packages: wget\n",
            "  Building wheel for wget (setup.py) ... \u001b[?25l\u001b[?25hdone\n",
            "  Created wheel for wget: filename=wget-3.2-py3-none-any.whl size=9675 sha256=ba806c6d946da6d1f90b3b623538859bf2dbbf1b8d2e56ee72ec4609ec83d12e\n",
            "  Stored in directory: /root/.cache/pip/wheels/a1/b6/7c/0e63e34eb06634181c63adacca38b79ff8f35c37e3c13e3c02\n",
            "Successfully built wget\n",
            "Installing collected packages: wget\n",
            "Successfully installed wget-3.2\n",
            "--2022-07-21 16:13:21--  https://raw.githubusercontent.com/da-python/python-for-data-analytics/main/Lesson1/hometask/vacancy.csv.zip\n",
            "Resolving raw.githubusercontent.com (raw.githubusercontent.com)... 185.199.108.133, 185.199.109.133, 185.199.110.133, ...\n",
            "Connecting to raw.githubusercontent.com (raw.githubusercontent.com)|185.199.108.133|:443... connected.\n",
            "HTTP request sent, awaiting response... 200 OK\n",
            "Length: 3029239 (2.9M) [application/zip]\n",
            "Saving to: ‘vacancy.csv.zip’\n",
            "\n",
            "vacancy.csv.zip     100%[===================>]   2.89M  --.-KB/s    in 0.05s   \n",
            "\n",
            "2022-07-21 16:13:21 (57.5 MB/s) - ‘vacancy.csv.zip’ saved [3029239/3029239]\n",
            "\n",
            "Archive:  vacancy.csv.zip\n",
            "  inflating: vacancy.csv             \n"
          ]
        }
      ],
      "source": [
        "# Colab Version\n",
        "!pip install wget\n",
        "!mkdir data\n",
        "!wget https://raw.githubusercontent.com/da-python/python-for-data-analytics/main/Lesson1/hometask/vacancy.csv.zip\n",
        "\n",
        "!unzip vacancy.csv.zip\n"
      ],
      "metadata": {
        "pycharm": {
          "name": "#%%\n"
        },
        "id": "9bCHNfz0o4qF",
        "outputId": "b130ce4c-460f-4866-9c3d-429e70639630",
        "colab": {
          "base_uri": "https://localhost:8080/"
        }
      }
    },
    {
      "cell_type": "code",
      "execution_count": null,
      "metadata": {
        "pycharm": {
          "name": "#%%\n"
        },
        "id": "ZkAvxiwPo4qG"
      },
      "outputs": [],
      "source": [
        "import csv\n",
        "import sys\n",
        "from collections import Counter, defaultdict\n",
        "import re"
      ]
    },
    {
      "cell_type": "code",
      "execution_count": null,
      "metadata": {
        "pycharm": {
          "name": "#%%\n"
        },
        "id": "n02T7E1So4qH",
        "outputId": "b2a32869-8da0-4286-c141-7242e4a10b64",
        "colab": {
          "base_uri": "https://localhost:8080/"
        }
      },
      "outputs": [
        {
          "output_type": "execute_result",
          "data": {
            "text/plain": [
              "131072"
            ]
          },
          "metadata": {},
          "execution_count": 4
        }
      ],
      "source": [
        "csv.field_size_limit(sys.maxsize)"
      ]
    },
    {
      "cell_type": "code",
      "execution_count": null,
      "metadata": {
        "pycharm": {
          "name": "#%%\n"
        },
        "id": "kAuunh6io4qI"
      },
      "outputs": [],
      "source": [
        "file_path = 'vacancy.csv'\n",
        "vacs = list(csv.DictReader(open(file_path)))"
      ]
    },
    {
      "cell_type": "code",
      "source": [
        "#2. Попробуйте используя встроенные инструменты Python проанализировать таблицу из файла \"Vacancy.csv\"\n",
        "# узнаем какой тип\n",
        "type(vacs)"
      ],
      "metadata": {
        "colab": {
          "base_uri": "https://localhost:8080/"
        },
        "id": "_mJg9WAM6hu-",
        "outputId": "b7da732a-655b-45b9-8985-9ad43bc0dd7e"
      },
      "execution_count": null,
      "outputs": [
        {
          "output_type": "execute_result",
          "data": {
            "text/plain": [
              "list"
            ]
          },
          "metadata": {},
          "execution_count": 6
        }
      ]
    },
    {
      "cell_type": "code",
      "source": [
        "# Узнаем сколько запесей\n",
        "len(vacs)"
      ],
      "metadata": {
        "colab": {
          "base_uri": "https://localhost:8080/"
        },
        "id": "RJLWRYrJ6rvZ",
        "outputId": "0a33d186-f426-43a0-9ddb-b2a85910d26f"
      },
      "execution_count": null,
      "outputs": [
        {
          "output_type": "execute_result",
          "data": {
            "text/plain": [
              "4002"
            ]
          },
          "metadata": {},
          "execution_count": 7
        }
      ]
    },
    {
      "cell_type": "code",
      "source": [
        "# Узнаем какие поля\n",
        "vacs[0].keys()"
      ],
      "metadata": {
        "colab": {
          "base_uri": "https://localhost:8080/"
        },
        "id": "h6ltHR8T68E-",
        "outputId": "9c8060fd-1323-4b9c-8530-545be7fd40b2"
      },
      "execution_count": null,
      "outputs": [
        {
          "output_type": "execute_result",
          "data": {
            "text/plain": [
              "odict_keys(['id', 'created_at', 'updated_at', 'vacid', 'vactitle', 'vacdescription', 'vacdate', 'vacstatus', 'vaclink'])"
            ]
          },
          "metadata": {},
          "execution_count": 8
        }
      ]
    },
    {
      "cell_type": "code",
      "source": [
        "# Смотрим 1 запись\n",
        "vacs[0]"
      ],
      "metadata": {
        "id": "JhmnvINnDTCq",
        "outputId": "8e41c540-2c3c-4eb9-aa87-44d91bafe37a",
        "colab": {
          "base_uri": "https://localhost:8080/"
        }
      },
      "execution_count": null,
      "outputs": [
        {
          "output_type": "execute_result",
          "data": {
            "text/plain": [
              "OrderedDict([('id', '383479'),\n",
              "             ('created_at', '2021-03-14 09:39:21.854462'),\n",
              "             ('updated_at', '2021-03-14 09:39:21.854584'),\n",
              "             ('vacid', '1474941'),\n",
              "             ('vactitle', 'Senior java-разработчик (в команду Онбординга)'),\n",
              "             ('vacdescription',\n",
              "              ' Работа у нас — это:команда профессионалов, готовых поддержать ваши инициативы;мощное железо, дополнительные мониторы и всё, что нужно для продуктивной работы;обучение за счёт компании;гибкий графиккрасивый и комфортный офис  г. Санкт-Петербург, м. Ладожская  пл. Карла Фаберже 8 ВДМС;прозрачная система бонусов и премий, достойная зарплата — размер обсудим на собеседовании.Информация о проекте:Наша команда делает новые экспериментальные фичи для СБОЛа.Сейчас мы разрабатываем систему, с помощью которой разные команды Сбера смогут создавать квесты для мобильного приложения.Также мы будем разрабатывать внутреннюю платформу для продуктовых экспериментов. Описание команды:2-pizza team: сейчас у нас работают разработчики iOS и Android, продакт и аналитик. К команде в ближайшее время подключится тестировщик и еще один аналитик. Мы ожидаем, что Вы:Работали раннее в продуктовой agile-команде;Имеете опыт работы больше 4 лет с Java и ее экосистемой;Владеете Spring: Core, MVC, Boot, Cloud;Работали с реляционными БД;Трепетно относитесь к тестовому покрытию;Будете относиться с заботой к нашим пользователям, продукту и команде. Будет здорово, если вы:Умеете готовить ansible;Работали с k8s;Использовали kafka;Умеете оптимизировать SQL-запросы. Вам предстоит:отвечать за качество технических решений;придумывать реализацию для безумных идей наших продактов;разрабатывать сервисы, интегрироваться с множеством систем банка.Информация о проекте:Наша команда делает новые экспериментальные фичи для СБОЛа.Сейчас мы разрабатываем систему, с помощью которой разные команды Сбера смогут создавать квесты для мобильного приложения.Также мы будем разрабатывать внутреннюю платформу для продуктовых экспериментов. Описание команды:2-pizza team: сейчас у нас работают разработчики iOS и Android, продакт и аналитик. К команде в ближайшее время подключится тестировщик и еще один аналитик. Мы ожидаем, что Вы:Работали раннее в продуктовой agile-команде;Имеете опыт работы больше 4 лет с Java и ее экосистемой;Владеете Spring: Core, MVC, Boot, Cloud;Работали с реляционными БД;Трепетно относитесь к тестовому покрытию;Будете относиться с заботой к нашим пользователям, продукту и команде. Будет здорово, если вы:Умеете готовить ansible;Работали с k8s;Использовали kafka;Умеете оптимизировать SQL-запросы. Вам предстоит:отвечать за качество технических решений;придумывать реализацию для безумных идей наших продактов;разрабатывать сервисы, интегрироваться с множеством систем банка. Работа у нас — это:команда профессионалов, готовых поддержать ваши инициативы;мощное железо, дополнительные мониторы и всё, что нужно для продуктивной работы;обучение за счёт компании;гибкий графиккрасивый и комфортный офис  г. Санкт-Петербург, м. Ладожская  пл. Карла Фаберже 8 ВДМС;прозрачная система бонусов и премий, достойная зарплата — размер обсудим на собеседовании.'),\n",
              "             ('vacdate', '2021-03-15'),\n",
              "             ('vacstatus', 'new'),\n",
              "             ('vaclink',\n",
              "              'https://my.sbertalents.ru/#/job-requisition/1474941')])"
            ]
          },
          "metadata": {},
          "execution_count": 9
        }
      ]
    },
    {
      "cell_type": "code",
      "source": [
        "# Сколько вакансий для аналитика данных?\n",
        "res=['аналитик данных', 'data analyst']\n",
        "kol=0\n",
        "vacs_set = set()\n",
        "vacs_set1 = set()\n",
        "for i in range(len(vacs)):\n",
        "  for j in res:\n",
        "    if re.search(j, vacs[i]['vactitle'].lower())!=None:\n",
        "      vacs_set1.add(vacs[i]['id'])\n",
        "      vacs_set.add(vacs[i]['vactitle'])\n",
        "      if re.search('python', vacs[i]['vactitle'].lower())!=None:\n",
        "        kol+=1\n",
        "len(vacs_set1)"
      ],
      "metadata": {
        "colab": {
          "base_uri": "https://localhost:8080/"
        },
        "id": "FqVZglytBsMi",
        "outputId": "b26cfa18-7676-40a3-db6b-7cae03516dd8"
      },
      "execution_count": null,
      "outputs": [
        {
          "output_type": "execute_result",
          "data": {
            "text/plain": [
              "42"
            ]
          },
          "metadata": {},
          "execution_count": 10
        }
      ]
    },
    {
      "cell_type": "code",
      "source": [
        "# Сколько вакансий для аналитика данных с использованием Python?\n",
        "kol"
      ],
      "metadata": {
        "colab": {
          "base_uri": "https://localhost:8080/"
        },
        "id": "oepo303lKV0T",
        "outputId": "2deba0b5-03a9-4d2c-8500-b42c1b165421"
      },
      "execution_count": null,
      "outputs": [
        {
          "output_type": "execute_result",
          "data": {
            "text/plain": [
              "1"
            ]
          },
          "metadata": {},
          "execution_count": 11
        }
      ]
    },
    {
      "cell_type": "code",
      "execution_count": null,
      "outputs": [
        {
          "output_type": "execute_result",
          "data": {
            "text/plain": [
              "0"
            ]
          },
          "metadata": {},
          "execution_count": 12
        }
      ],
      "source": [
        "# Сколько вакансий с такими позициями, на которых вы работаете?\n",
        "res=['руководитель офиса ипотечного','РОИК']\n",
        "vacs_set = set()\n",
        "vacs_set1 = set()\n",
        "for i in range(len(vacs)):\n",
        "  for j in res:\n",
        "    if re.search(j, vacs[i]['vactitle'].lower())!=None:\n",
        "      vacs_set1.add(vacs[i]['vactitle'])\n",
        "len(vacs_set1)"
      ],
      "metadata": {
        "pycharm": {
          "name": "#%%\n"
        },
        "id": "jPpM6mtXo4qJ",
        "outputId": "329862c3-8cc2-4ebc-d486-b505b16811d5",
        "colab": {
          "base_uri": "https://localhost:8080/"
        }
      }
    },
    {
      "cell_type": "code",
      "source": [
        "# Сколько вакансий, которые вам нравятся?\n",
        "res=['ипотеч']\n",
        "vacs_set = set()\n",
        "vacs_set1 = set()\n",
        "vacs_set2 = set()\n",
        "for i in range(len(vacs)):\n",
        "  for j in res:\n",
        "    if re.search(j, vacs[i]['vactitle'].lower())!=None:\n",
        "      vacs_set1.add(vacs[i]['vactitle'])\n",
        "      vacs_set2.add(vacs[i]['id'])\n",
        "      vacs_set.add(vacs[i]['vacdate'])\n",
        "len(vacs_set2)"
      ],
      "metadata": {
        "colab": {
          "base_uri": "https://localhost:8080/"
        },
        "id": "H2yo30jdR7OF",
        "outputId": "ac73f736-d1d3-4914-8dce-7f58791b4db5"
      },
      "execution_count": null,
      "outputs": [
        {
          "output_type": "execute_result",
          "data": {
            "text/plain": [
              "4"
            ]
          },
          "metadata": {},
          "execution_count": 13
        }
      ]
    },
    {
      "cell_type": "code",
      "source": [
        "# За какие периоды эти вакансии?\n",
        "type(vacs_set)"
      ],
      "metadata": {
        "colab": {
          "base_uri": "https://localhost:8080/"
        },
        "id": "gUxEEAEIVmg3",
        "outputId": "fadd2c0b-5d79-4ba8-b407-3fff83e21151"
      },
      "execution_count": null,
      "outputs": [
        {
          "output_type": "execute_result",
          "data": {
            "text/plain": [
              "set"
            ]
          },
          "metadata": {},
          "execution_count": 18
        }
      ]
    }
  ],
  "metadata": {
    "kernelspec": {
      "display_name": "Python 3",
      "language": "python",
      "name": "python3"
    },
    "language_info": {
      "codemirror_mode": {
        "name": "ipython",
        "version": 3
      },
      "file_extension": ".py",
      "mimetype": "text/x-python",
      "name": "python",
      "nbconvert_exporter": "python",
      "pygments_lexer": "ipython3",
      "version": "3.8.5"
    },
    "colab": {
      "name": "Копия блокнота \"without_pandas.ipynb\"",
      "provenance": [],
      "collapsed_sections": [],
      "include_colab_link": true
    }
  },
  "nbformat": 4,
  "nbformat_minor": 0
}